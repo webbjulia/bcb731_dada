{
 "cells": [
  {
   "cell_type": "code",
   "execution_count": 1,
   "id": "d0779541",
   "metadata": {},
   "outputs": [],
   "source": [
    "import pandas as pd\n",
    "\n",
    "import warnings\n",
    "warnings.filterwarnings(\"ignore\")\n",
    "\n",
    "import matplotlib.pyplot as plt\n",
    "import numpy as np\n",
    "import torch\n",
    " \n",
    "from lifelines import KaplanMeierFitter\n",
    "from lifelines.utils import median_survival_times\n",
    "from lifelines.statistics import pairwise_logrank_test"
   ]
  },
  {
   "cell_type": "markdown",
   "id": "194d6618",
   "metadata": {},
   "source": [
    "### Read in data from VanAllen et al."
   ]
  },
  {
   "cell_type": "code",
   "execution_count": 2,
   "id": "ee649f30",
   "metadata": {},
   "outputs": [
    {
     "data": {
      "text/html": [
       "<div>\n",
       "<style scoped>\n",
       "    .dataframe tbody tr th:only-of-type {\n",
       "        vertical-align: middle;\n",
       "    }\n",
       "\n",
       "    .dataframe tbody tr th {\n",
       "        vertical-align: top;\n",
       "    }\n",
       "\n",
       "    .dataframe thead th {\n",
       "        text-align: right;\n",
       "    }\n",
       "</style>\n",
       "<table border=\"1\" class=\"dataframe\">\n",
       "  <thead>\n",
       "    <tr style=\"text-align: right;\">\n",
       "      <th></th>\n",
       "      <th>ID</th>\n",
       "      <th>MUTATION_ID</th>\n",
       "      <th>Sample</th>\n",
       "      <th>WT.Peptide</th>\n",
       "      <th>MT.Peptide</th>\n",
       "      <th>MT.Allele</th>\n",
       "      <th>WT.Score</th>\n",
       "      <th>MT.Score</th>\n",
       "      <th>HLA</th>\n",
       "    </tr>\n",
       "  </thead>\n",
       "  <tbody>\n",
       "    <tr>\n",
       "      <th>0</th>\n",
       "      <td>1</td>\n",
       "      <td>1_1563747_C_T_Pat02</td>\n",
       "      <td>Pat02</td>\n",
       "      <td>NHREVAQIL</td>\n",
       "      <td>NYREVAQIL</td>\n",
       "      <td>C0702</td>\n",
       "      <td>701</td>\n",
       "      <td>70</td>\n",
       "      <td>A0201,A2601,B0801,B0702,C0702,C0702</td>\n",
       "    </tr>\n",
       "    <tr>\n",
       "      <th>1</th>\n",
       "      <td>2</td>\n",
       "      <td>1_17087582_G_A_Pat02</td>\n",
       "      <td>Pat02</td>\n",
       "      <td>SPSNDFQVL</td>\n",
       "      <td>SPLNDFQVL</td>\n",
       "      <td>B0801</td>\n",
       "      <td>739</td>\n",
       "      <td>202</td>\n",
       "      <td>A0201,A2601,B0801,B0702,C0702,C0702</td>\n",
       "    </tr>\n",
       "    <tr>\n",
       "      <th>2</th>\n",
       "      <td>3</td>\n",
       "      <td>1_17087582_G_A_Pat02</td>\n",
       "      <td>Pat02</td>\n",
       "      <td>SPSNDFQVL</td>\n",
       "      <td>SPLNDFQVL</td>\n",
       "      <td>B0702</td>\n",
       "      <td>32</td>\n",
       "      <td>37</td>\n",
       "      <td>A0201,A2601,B0801,B0702,C0702,C0702</td>\n",
       "    </tr>\n",
       "    <tr>\n",
       "      <th>3</th>\n",
       "      <td>4</td>\n",
       "      <td>1_21806573_A_G_Pat02</td>\n",
       "      <td>Pat02</td>\n",
       "      <td>LLDEKEPEV</td>\n",
       "      <td>LLDEKGPEV</td>\n",
       "      <td>A0201</td>\n",
       "      <td>8</td>\n",
       "      <td>9</td>\n",
       "      <td>A0201,A2601,B0801,B0702,C0702,C0702</td>\n",
       "    </tr>\n",
       "    <tr>\n",
       "      <th>4</th>\n",
       "      <td>5</td>\n",
       "      <td>1_46073697_C_T_Pat02</td>\n",
       "      <td>Pat02</td>\n",
       "      <td>KPGQEAPVL</td>\n",
       "      <td>KPGQEASVL</td>\n",
       "      <td>B0702</td>\n",
       "      <td>90</td>\n",
       "      <td>31</td>\n",
       "      <td>A0201,A2601,B0801,B0702,C0702,C0702</td>\n",
       "    </tr>\n",
       "  </tbody>\n",
       "</table>\n",
       "</div>"
      ],
      "text/plain": [
       "   ID           MUTATION_ID Sample WT.Peptide MT.Peptide MT.Allele  WT.Score  \\\n",
       "0   1   1_1563747_C_T_Pat02  Pat02  NHREVAQIL  NYREVAQIL     C0702       701   \n",
       "1   2  1_17087582_G_A_Pat02  Pat02  SPSNDFQVL  SPLNDFQVL     B0801       739   \n",
       "2   3  1_17087582_G_A_Pat02  Pat02  SPSNDFQVL  SPLNDFQVL     B0702        32   \n",
       "3   4  1_21806573_A_G_Pat02  Pat02  LLDEKEPEV  LLDEKGPEV     A0201         8   \n",
       "4   5  1_46073697_C_T_Pat02  Pat02  KPGQEAPVL  KPGQEASVL     B0702        90   \n",
       "\n",
       "   MT.Score                                  HLA  \n",
       "0        70  A0201,A2601,B0801,B0702,C0702,C0702  \n",
       "1       202  A0201,A2601,B0801,B0702,C0702,C0702  \n",
       "2        37  A0201,A2601,B0801,B0702,C0702,C0702  \n",
       "3         9  A0201,A2601,B0801,B0702,C0702,C0702  \n",
       "4        31  A0201,A2601,B0801,B0702,C0702,C0702  "
      ]
     },
     "execution_count": 2,
     "metadata": {},
     "output_type": "execute_result"
    }
   ],
   "source": [
    "neoag_vanallen = pd.read_excel('nature24473_MOESM4_neoantigens.xlsx', sheet_name='VanAllen et al.')\n",
    "neoag_vanallen.head()"
   ]
  },
  {
   "cell_type": "code",
   "execution_count": 3,
   "id": "690cbb72",
   "metadata": {},
   "outputs": [
    {
     "data": {
      "text/plain": [
       "(39437, 9)"
      ]
     },
     "execution_count": 3,
     "metadata": {},
     "output_type": "execute_result"
    }
   ],
   "source": [
    "neoag_vanallen.shape"
   ]
  },
  {
   "cell_type": "markdown",
   "id": "e09760bf",
   "metadata": {},
   "source": [
    "#### Look at how many neoantigens called for each patient"
   ]
  },
  {
   "cell_type": "code",
   "execution_count": 4,
   "id": "b0db545a",
   "metadata": {},
   "outputs": [
    {
     "data": {
      "text/plain": [
       "Pat110    3650\n",
       "Pat138    3167\n",
       "Pat38     2503\n",
       "Pat58     1971\n",
       "Pat139    1922\n",
       "          ... \n",
       "Pat92       13\n",
       "Pat67       11\n",
       "Pat33        8\n",
       "Pat36        6\n",
       "Pat18        5\n",
       "Name: Sample, Length: 110, dtype: int64"
      ]
     },
     "execution_count": 4,
     "metadata": {},
     "output_type": "execute_result"
    }
   ],
   "source": [
    "neoag_vanallen['Sample'].value_counts()"
   ]
  },
  {
   "cell_type": "code",
   "execution_count": 5,
   "id": "594922a7",
   "metadata": {},
   "outputs": [
    {
     "data": {
      "text/html": [
       "<div>\n",
       "<style scoped>\n",
       "    .dataframe tbody tr th:only-of-type {\n",
       "        vertical-align: middle;\n",
       "    }\n",
       "\n",
       "    .dataframe tbody tr th {\n",
       "        vertical-align: top;\n",
       "    }\n",
       "\n",
       "    .dataframe thead th {\n",
       "        text-align: right;\n",
       "    }\n",
       "</style>\n",
       "<table border=\"1\" class=\"dataframe\">\n",
       "  <thead>\n",
       "    <tr style=\"text-align: right;\">\n",
       "      <th></th>\n",
       "      <th>Sample</th>\n",
       "      <th>Months</th>\n",
       "      <th>Status</th>\n",
       "    </tr>\n",
       "  </thead>\n",
       "  <tbody>\n",
       "    <tr>\n",
       "      <th>0</th>\n",
       "      <td>Pat02</td>\n",
       "      <td>53.654736</td>\n",
       "      <td>0</td>\n",
       "    </tr>\n",
       "    <tr>\n",
       "      <th>1</th>\n",
       "      <td>Pat03</td>\n",
       "      <td>3.287668</td>\n",
       "      <td>1</td>\n",
       "    </tr>\n",
       "    <tr>\n",
       "      <th>2</th>\n",
       "      <td>Pat04</td>\n",
       "      <td>32.449280</td>\n",
       "      <td>0</td>\n",
       "    </tr>\n",
       "    <tr>\n",
       "      <th>3</th>\n",
       "      <td>Pat06</td>\n",
       "      <td>5.293145</td>\n",
       "      <td>1</td>\n",
       "    </tr>\n",
       "    <tr>\n",
       "      <th>4</th>\n",
       "      <td>Pat08</td>\n",
       "      <td>4.602735</td>\n",
       "      <td>1</td>\n",
       "    </tr>\n",
       "  </tbody>\n",
       "</table>\n",
       "</div>"
      ],
      "text/plain": [
       "  Sample     Months  Status\n",
       "0  Pat02  53.654736       0\n",
       "1  Pat03   3.287668       1\n",
       "2  Pat04  32.449280       0\n",
       "3  Pat06   5.293145       1\n",
       "4  Pat08   4.602735       1"
      ]
     },
     "execution_count": 5,
     "metadata": {},
     "output_type": "execute_result"
    }
   ],
   "source": [
    "survival_vanallen = pd.read_excel('nature24473_MOESM5_survival.xlsx', sheet_name='Survival VanAllen et al.')\n",
    "survival_vanallen.head()"
   ]
  },
  {
   "cell_type": "code",
   "execution_count": 6,
   "id": "be6ac7dd",
   "metadata": {},
   "outputs": [
    {
     "data": {
      "text/plain": [
       "{'Pat07', 'Pat105', 'Pat57', 'Pat58', 'Pat63', 'Pat66', 'Pat77'}"
      ]
     },
     "execution_count": 6,
     "metadata": {},
     "output_type": "execute_result"
    }
   ],
   "source": [
    "set(neoag_vanallen['Sample']) - set(survival_vanallen['Sample'])\n",
    "\n",
    "# seven patients present in neoantigen list but not survival "
   ]
  },
  {
   "cell_type": "code",
   "execution_count": 7,
   "id": "2bad31c5",
   "metadata": {},
   "outputs": [
    {
     "data": {
      "text/plain": [
       "set()"
      ]
     },
     "execution_count": 7,
     "metadata": {},
     "output_type": "execute_result"
    }
   ],
   "source": [
    "set(survival_vanallen['Sample']) - set(neoag_vanallen['Sample'])"
   ]
  },
  {
   "cell_type": "code",
   "execution_count": 8,
   "id": "d1a7886f",
   "metadata": {},
   "outputs": [
    {
     "data": {
      "text/plain": [
       "count    103.000000\n",
       "mean      14.343168\n",
       "std       13.375048\n",
       "min        1.117807\n",
       "25%        4.126023\n",
       "50%        8.219169\n",
       "75%       23.210933\n",
       "max       53.654736\n",
       "Name: Months, dtype: float64"
      ]
     },
     "execution_count": 8,
     "metadata": {},
     "output_type": "execute_result"
    }
   ],
   "source": [
    "survival_vanallen['Months'].describe()"
   ]
  },
  {
   "cell_type": "code",
   "execution_count": 9,
   "id": "f1f99fea",
   "metadata": {},
   "outputs": [
    {
     "data": {
      "text/plain": [
       "<AxesSubplot:>"
      ]
     },
     "execution_count": 9,
     "metadata": {},
     "output_type": "execute_result"
    },
    {
     "data": {
      "image/png": "[encoded data removed]",
      "text/plain": [
       "<Figure size 432x288 with 1 Axes>"
      ]
     },
     "metadata": {
      "needs_background": "light"
     },
     "output_type": "display_data"
    }
   ],
   "source": [
    "survival_vanallen['Months'].hist()"
   ]
  },
  {
   "cell_type": "markdown",
   "id": "ab403087",
   "metadata": {},
   "source": [
    "### Read in data from Snyder et al."
   ]
  },
  {
   "cell_type": "code",
   "execution_count": 10,
   "id": "5ef835f4",
   "metadata": {},
   "outputs": [
    {
     "data": {
      "text/html": [
       "<div>\n",
       "<style scoped>\n",
       "    .dataframe tbody tr th:only-of-type {\n",
       "        vertical-align: middle;\n",
       "    }\n",
       "\n",
       "    .dataframe tbody tr th {\n",
       "        vertical-align: top;\n",
       "    }\n",
       "\n",
       "    .dataframe thead th {\n",
       "        text-align: right;\n",
       "    }\n",
       "</style>\n",
       "<table border=\"1\" class=\"dataframe\">\n",
       "  <thead>\n",
       "    <tr style=\"text-align: right;\">\n",
       "      <th></th>\n",
       "      <th>ID</th>\n",
       "      <th>MUTATION_ID</th>\n",
       "      <th>Sample</th>\n",
       "      <th>WT.Peptide</th>\n",
       "      <th>MT.Peptide</th>\n",
       "      <th>MT.Allele</th>\n",
       "      <th>WT.Score</th>\n",
       "      <th>MT.Score</th>\n",
       "      <th>HLA</th>\n",
       "    </tr>\n",
       "  </thead>\n",
       "  <tbody>\n",
       "    <tr>\n",
       "      <th>0</th>\n",
       "      <td>1</td>\n",
       "      <td>1_2428342_A_G_CR0095</td>\n",
       "      <td>CR0095</td>\n",
       "      <td>QQKPAQYLR</td>\n",
       "      <td>QQKPAQCLR</td>\n",
       "      <td>A3101</td>\n",
       "      <td>28</td>\n",
       "      <td>105</td>\n",
       "      <td>A0201,A3101,B3502,B3906,C0401,C0702</td>\n",
       "    </tr>\n",
       "    <tr>\n",
       "      <th>1</th>\n",
       "      <td>2</td>\n",
       "      <td>1_879142_C_G_LSDNR1120</td>\n",
       "      <td>LSDNR1120</td>\n",
       "      <td>LLTNMGLKL</td>\n",
       "      <td>LLSNMGLKL</td>\n",
       "      <td>A0201</td>\n",
       "      <td>618</td>\n",
       "      <td>322</td>\n",
       "      <td>A0201,A0301,B0801,C0701</td>\n",
       "    </tr>\n",
       "    <tr>\n",
       "      <th>2</th>\n",
       "      <td>3</td>\n",
       "      <td>1_879142_C_G_LSDNR1120</td>\n",
       "      <td>LSDNR1120</td>\n",
       "      <td>HLLTNMGLK</td>\n",
       "      <td>HLLSNMGLK</td>\n",
       "      <td>A0301</td>\n",
       "      <td>19</td>\n",
       "      <td>19</td>\n",
       "      <td>A0201,A0301,B0801,C0701</td>\n",
       "    </tr>\n",
       "    <tr>\n",
       "      <th>3</th>\n",
       "      <td>4</td>\n",
       "      <td>1_4772564_C_T_NR1867</td>\n",
       "      <td>NR1867</td>\n",
       "      <td>TVSILQTRK</td>\n",
       "      <td>TVSILQTWK</td>\n",
       "      <td>A6801</td>\n",
       "      <td>61</td>\n",
       "      <td>41</td>\n",
       "      <td>A3402,A6801,B1503,B1574,B1598,C0202,C0210,C0214</td>\n",
       "    </tr>\n",
       "    <tr>\n",
       "      <th>4</th>\n",
       "      <td>5</td>\n",
       "      <td>1_4772564_C_T_NR1867</td>\n",
       "      <td>NR1867</td>\n",
       "      <td>LQTRKTTVA</td>\n",
       "      <td>LQTWKTTVA</td>\n",
       "      <td>B1503</td>\n",
       "      <td>96</td>\n",
       "      <td>262</td>\n",
       "      <td>A3402,A6801,B1503,B1574,B1598,C0202,C0210,C0214</td>\n",
       "    </tr>\n",
       "  </tbody>\n",
       "</table>\n",
       "</div>"
      ],
      "text/plain": [
       "   ID             MUTATION_ID     Sample WT.Peptide MT.Peptide MT.Allele  \\\n",
       "0   1    1_2428342_A_G_CR0095     CR0095  QQKPAQYLR  QQKPAQCLR     A3101   \n",
       "1   2  1_879142_C_G_LSDNR1120  LSDNR1120  LLTNMGLKL  LLSNMGLKL     A0201   \n",
       "2   3  1_879142_C_G_LSDNR1120  LSDNR1120  HLLTNMGLK  HLLSNMGLK     A0301   \n",
       "3   4    1_4772564_C_T_NR1867     NR1867  TVSILQTRK  TVSILQTWK     A6801   \n",
       "4   5    1_4772564_C_T_NR1867     NR1867  LQTRKTTVA  LQTWKTTVA     B1503   \n",
       "\n",
       "   WT.Score  MT.Score                                              HLA  \n",
       "0        28       105              A0201,A3101,B3502,B3906,C0401,C0702  \n",
       "1       618       322                          A0201,A0301,B0801,C0701  \n",
       "2        19        19                          A0201,A0301,B0801,C0701  \n",
       "3        61        41  A3402,A6801,B1503,B1574,B1598,C0202,C0210,C0214  \n",
       "4        96       262  A3402,A6801,B1503,B1574,B1598,C0202,C0210,C0214  "
      ]
     },
     "execution_count": 10,
     "metadata": {},
     "output_type": "execute_result"
    }
   ],
   "source": [
    "neoag_snyder = pd.read_excel('nature24473_MOESM4_neoantigens.xlsx', sheet_name='Snyder et al.')\n",
    "neoag_snyder.head()"
   ]
  },
  {
   "cell_type": "code",
   "execution_count": 11,
   "id": "84b88383",
   "metadata": {},
   "outputs": [
    {
     "data": {
      "text/plain": [
       "(26052, 9)"
      ]
     },
     "execution_count": 11,
     "metadata": {},
     "output_type": "execute_result"
    }
   ],
   "source": [
    "neoag_snyder.shape"
   ]
  },
  {
   "cell_type": "markdown",
   "id": "70d513a2",
   "metadata": {},
   "source": [
    "#### Look at how many neoantigens called for each patient"
   ]
  },
  {
   "cell_type": "code",
   "execution_count": 12,
   "id": "9d55872f",
   "metadata": {},
   "outputs": [
    {
     "data": {
      "text/plain": [
       "PR4092     2494\n",
       "CR4880     1993\n",
       "CR04885    1864\n",
       "SD7357     1419\n",
       "LSD4744    1394\n",
       "           ... \n",
       "NR6689        7\n",
       "SD5934        7\n",
       "NR3156        5\n",
       "SD2051        4\n",
       "NR6842        3\n",
       "Name: Sample, Length: 63, dtype: int64"
      ]
     },
     "execution_count": 12,
     "metadata": {},
     "output_type": "execute_result"
    }
   ],
   "source": [
    "neoag_snyder['Sample'].value_counts()"
   ]
  },
  {
   "cell_type": "code",
   "execution_count": 13,
   "id": "8ba42d3d",
   "metadata": {},
   "outputs": [
    {
     "data": {
      "text/html": [
       "<div>\n",
       "<style scoped>\n",
       "    .dataframe tbody tr th:only-of-type {\n",
       "        vertical-align: middle;\n",
       "    }\n",
       "\n",
       "    .dataframe tbody tr th {\n",
       "        vertical-align: top;\n",
       "    }\n",
       "\n",
       "    .dataframe thead th {\n",
       "        text-align: right;\n",
       "    }\n",
       "</style>\n",
       "<table border=\"1\" class=\"dataframe\">\n",
       "  <thead>\n",
       "    <tr style=\"text-align: right;\">\n",
       "      <th></th>\n",
       "      <th>Sample</th>\n",
       "      <th>Months</th>\n",
       "      <th>Status</th>\n",
       "    </tr>\n",
       "  </thead>\n",
       "  <tbody>\n",
       "    <tr>\n",
       "      <th>0</th>\n",
       "      <td>CR0095</td>\n",
       "      <td>67.89041</td>\n",
       "      <td>0</td>\n",
       "    </tr>\n",
       "    <tr>\n",
       "      <th>1</th>\n",
       "      <td>CR04885</td>\n",
       "      <td>25.60000</td>\n",
       "      <td>0</td>\n",
       "    </tr>\n",
       "    <tr>\n",
       "      <th>2</th>\n",
       "      <td>CR06670</td>\n",
       "      <td>44.40000</td>\n",
       "      <td>0</td>\n",
       "    </tr>\n",
       "    <tr>\n",
       "      <th>3</th>\n",
       "      <td>CR1509</td>\n",
       "      <td>53.85205</td>\n",
       "      <td>0</td>\n",
       "    </tr>\n",
       "    <tr>\n",
       "      <th>4</th>\n",
       "      <td>CR22640</td>\n",
       "      <td>51.20000</td>\n",
       "      <td>0</td>\n",
       "    </tr>\n",
       "  </tbody>\n",
       "</table>\n",
       "</div>"
      ],
      "text/plain": [
       "    Sample    Months Status\n",
       "0   CR0095  67.89041      0\n",
       "1  CR04885  25.60000      0\n",
       "2  CR06670  44.40000      0\n",
       "3   CR1509  53.85205      0\n",
       "4  CR22640  51.20000      0"
      ]
     },
     "execution_count": 13,
     "metadata": {},
     "output_type": "execute_result"
    }
   ],
   "source": [
    "survival_snyder = pd.read_excel('nature24473_MOESM5_survival.xlsx', sheet_name='Survival Snyder et al.')\n",
    "survival_snyder.head()"
   ]
  },
  {
   "cell_type": "code",
   "execution_count": 14,
   "id": "0f780941",
   "metadata": {},
   "outputs": [
    {
     "data": {
      "text/plain": [
       "(64, 3)"
      ]
     },
     "execution_count": 14,
     "metadata": {},
     "output_type": "execute_result"
    }
   ],
   "source": [
    "survival_snyder.shape"
   ]
  },
  {
   "cell_type": "code",
   "execution_count": 15,
   "id": "9b181ab1",
   "metadata": {},
   "outputs": [
    {
     "data": {
      "text/plain": [
       "{'NR8727'}"
      ]
     },
     "execution_count": 15,
     "metadata": {},
     "output_type": "execute_result"
    }
   ],
   "source": [
    "set(survival_snyder['Sample']) - set(neoag_snyder['Sample'])\n",
    "\n",
    "# one patient present in survival but not neoantigens"
   ]
  },
  {
   "cell_type": "code",
   "execution_count": 16,
   "id": "b206458a",
   "metadata": {},
   "outputs": [
    {
     "data": {
      "text/plain": [
       "set()"
      ]
     },
     "execution_count": 16,
     "metadata": {},
     "output_type": "execute_result"
    }
   ],
   "source": [
    "set(neoag_snyder['Sample']) - set(survival_snyder['Sample'])"
   ]
  },
  {
   "cell_type": "code",
   "execution_count": 17,
   "id": "aab4cc9e",
   "metadata": {},
   "outputs": [
    {
     "data": {
      "text/plain": [
       "count    64.000000\n",
       "mean     32.625835\n",
       "std      24.525729\n",
       "min       2.500000\n",
       "25%      12.501373\n",
       "50%      25.250000\n",
       "75%      50.050000\n",
       "max      94.600000\n",
       "Name: Months, dtype: float64"
      ]
     },
     "execution_count": 17,
     "metadata": {},
     "output_type": "execute_result"
    }
   ],
   "source": [
    "survival_snyder['Months'].describe()"
   ]
  },
  {
   "cell_type": "code",
   "execution_count": 18,
   "id": "18715179",
   "metadata": {},
   "outputs": [
    {
     "data": {
      "text/plain": [
       "<AxesSubplot:>"
      ]
     },
     "execution_count": 18,
     "metadata": {},
     "output_type": "execute_result"
    },
    {
     "data": {
      "image/png": "[encoded data removed]",
      "text/plain": [
       "<Figure size 432x288 with 1 Axes>"
      ]
     },
     "metadata": {
      "needs_background": "light"
     },
     "output_type": "display_data"
    }
   ],
   "source": [
    "survival_snyder['Months'].hist()"
   ]
  },
  {
   "cell_type": "markdown",
   "id": "157ff962",
   "metadata": {},
   "source": [
    "### Read in data from Rizvi et al."
   ]
  },
  {
   "cell_type": "code",
   "execution_count": 19,
   "id": "e45fa9df",
   "metadata": {},
   "outputs": [
    {
     "data": {
      "text/html": [
       "<div>\n",
       "<style scoped>\n",
       "    .dataframe tbody tr th:only-of-type {\n",
       "        vertical-align: middle;\n",
       "    }\n",
       "\n",
       "    .dataframe tbody tr th {\n",
       "        vertical-align: top;\n",
       "    }\n",
       "\n",
       "    .dataframe thead th {\n",
       "        text-align: right;\n",
       "    }\n",
       "</style>\n",
       "<table border=\"1\" class=\"dataframe\">\n",
       "  <thead>\n",
       "    <tr style=\"text-align: right;\">\n",
       "      <th></th>\n",
       "      <th>ID</th>\n",
       "      <th>MUTATION_ID</th>\n",
       "      <th>Sample</th>\n",
       "      <th>WT.Peptide</th>\n",
       "      <th>MT.Peptide</th>\n",
       "      <th>MT.Allele</th>\n",
       "      <th>WT.Score</th>\n",
       "      <th>MT.Score</th>\n",
       "      <th>HLA</th>\n",
       "    </tr>\n",
       "  </thead>\n",
       "  <tbody>\n",
       "    <tr>\n",
       "      <th>0</th>\n",
       "      <td>1</td>\n",
       "      <td>1_44084332_G_T_AL4602</td>\n",
       "      <td>AL4602</td>\n",
       "      <td>RGTETCGLI</td>\n",
       "      <td>RVTETCGLI</td>\n",
       "      <td>C1502</td>\n",
       "      <td>1208</td>\n",
       "      <td>124</td>\n",
       "      <td>A0301,A3201,B0801,B5101,C0702,C1502</td>\n",
       "    </tr>\n",
       "    <tr>\n",
       "      <th>1</th>\n",
       "      <td>2</td>\n",
       "      <td>1_56990069_C_A_AL4602</td>\n",
       "      <td>AL4602</td>\n",
       "      <td>IGRLRPHFL</td>\n",
       "      <td>IVRLRPHFL</td>\n",
       "      <td>B0801</td>\n",
       "      <td>305</td>\n",
       "      <td>165</td>\n",
       "      <td>A0301,A3201,B0801,B5101,C0702,C1502</td>\n",
       "    </tr>\n",
       "    <tr>\n",
       "      <th>2</th>\n",
       "      <td>3</td>\n",
       "      <td>1_152192039_C_A_AL4602</td>\n",
       "      <td>AL4602</td>\n",
       "      <td>SSNGPHGSV</td>\n",
       "      <td>SSNVPHGSV</td>\n",
       "      <td>C1502</td>\n",
       "      <td>73</td>\n",
       "      <td>210</td>\n",
       "      <td>A0301,A3201,B0801,B5101,C0702,C1502</td>\n",
       "    </tr>\n",
       "    <tr>\n",
       "      <th>3</th>\n",
       "      <td>4</td>\n",
       "      <td>1_158227298_G_T_AL4602</td>\n",
       "      <td>AL4602</td>\n",
       "      <td>ALWFRKRCF</td>\n",
       "      <td>ALWFRKLCF</td>\n",
       "      <td>A3201</td>\n",
       "      <td>547</td>\n",
       "      <td>284</td>\n",
       "      <td>A0301,A3201,B0801,B5101,C0702,C1502</td>\n",
       "    </tr>\n",
       "    <tr>\n",
       "      <th>4</th>\n",
       "      <td>5</td>\n",
       "      <td>1_159410378_C_G_AL4602</td>\n",
       "      <td>AL4602</td>\n",
       "      <td>NTREHDQLI</td>\n",
       "      <td>NSREHDQLI</td>\n",
       "      <td>C1502</td>\n",
       "      <td>41</td>\n",
       "      <td>42</td>\n",
       "      <td>A0301,A3201,B0801,B5101,C0702,C1502</td>\n",
       "    </tr>\n",
       "  </tbody>\n",
       "</table>\n",
       "</div>"
      ],
      "text/plain": [
       "   ID             MUTATION_ID  Sample WT.Peptide MT.Peptide MT.Allele  \\\n",
       "0   1   1_44084332_G_T_AL4602  AL4602  RGTETCGLI  RVTETCGLI     C1502   \n",
       "1   2   1_56990069_C_A_AL4602  AL4602  IGRLRPHFL  IVRLRPHFL     B0801   \n",
       "2   3  1_152192039_C_A_AL4602  AL4602  SSNGPHGSV  SSNVPHGSV     C1502   \n",
       "3   4  1_158227298_G_T_AL4602  AL4602  ALWFRKRCF  ALWFRKLCF     A3201   \n",
       "4   5  1_159410378_C_G_AL4602  AL4602  NTREHDQLI  NSREHDQLI     C1502   \n",
       "\n",
       "   WT.Score  MT.Score                                  HLA  \n",
       "0      1208       124  A0301,A3201,B0801,B5101,C0702,C1502  \n",
       "1       305       165  A0301,A3201,B0801,B5101,C0702,C1502  \n",
       "2        73       210  A0301,A3201,B0801,B5101,C0702,C1502  \n",
       "3       547       284  A0301,A3201,B0801,B5101,C0702,C1502  \n",
       "4        41        42  A0301,A3201,B0801,B5101,C0702,C1502  "
      ]
     },
     "execution_count": 19,
     "metadata": {},
     "output_type": "execute_result"
    }
   ],
   "source": [
    "neoag_rizvi = pd.read_excel('nature24473_MOESM4_neoantigens.xlsx', sheet_name='Rizvi et al.')\n",
    "neoag_rizvi.head()"
   ]
  },
  {
   "cell_type": "code",
   "execution_count": 20,
   "id": "d1c0be73",
   "metadata": {},
   "outputs": [
    {
     "data": {
      "text/plain": [
       "(4948, 9)"
      ]
     },
     "execution_count": 20,
     "metadata": {},
     "output_type": "execute_result"
    }
   ],
   "source": [
    "neoag_rizvi.shape"
   ]
  },
  {
   "cell_type": "markdown",
   "id": "9ee8d7ac",
   "metadata": {},
   "source": [
    "#### Look at how many neoantigens called for each patient"
   ]
  },
  {
   "cell_type": "code",
   "execution_count": 21,
   "id": "7cc20e0e",
   "metadata": {},
   "outputs": [
    {
     "data": {
      "text/plain": [
       "TU0428      811\n",
       "HE3202      554\n",
       "SA9755      501\n",
       "ZA6505      398\n",
       "CU9061      246\n",
       "DI6359      234\n",
       "SC0899      230\n",
       "RI1933      217\n",
       "CA9903      215\n",
       "FR9547      209\n",
       "M4945       171\n",
       "SC6470      112\n",
       "KA3947      111\n",
       "Y2087        93\n",
       "AL4602       93\n",
       "RH090935     80\n",
       "RO3338       72\n",
       "DM123062     65\n",
       "MA7027       58\n",
       "R7495        54\n",
       "SB010944     53\n",
       "AU5884       48\n",
       "LO3793       47\n",
       "JB112852     44\n",
       "NI9507       38\n",
       "WA7899       37\n",
       "BL3403       30\n",
       "ZA6965       29\n",
       "LO5004       28\n",
       "SR070761     26\n",
       "GR4788       25\n",
       "GR0134       19\n",
       "Name: Sample, dtype: int64"
      ]
     },
     "execution_count": 21,
     "metadata": {},
     "output_type": "execute_result"
    }
   ],
   "source": [
    "neoag_rizvi['Sample'].value_counts()"
   ]
  },
  {
   "cell_type": "code",
   "execution_count": 22,
   "id": "1f0f83fe",
   "metadata": {},
   "outputs": [
    {
     "data": {
      "text/plain": [
       "32"
      ]
     },
     "execution_count": 22,
     "metadata": {},
     "output_type": "execute_result"
    }
   ],
   "source": [
    "len(neoag_rizvi['Sample'].value_counts())"
   ]
  },
  {
   "cell_type": "code",
   "execution_count": 23,
   "id": "13b00869",
   "metadata": {},
   "outputs": [
    {
     "data": {
      "text/html": [
       "<div>\n",
       "<style scoped>\n",
       "    .dataframe tbody tr th:only-of-type {\n",
       "        vertical-align: middle;\n",
       "    }\n",
       "\n",
       "    .dataframe tbody tr th {\n",
       "        vertical-align: top;\n",
       "    }\n",
       "\n",
       "    .dataframe thead th {\n",
       "        text-align: right;\n",
       "    }\n",
       "</style>\n",
       "<table border=\"1\" class=\"dataframe\">\n",
       "  <thead>\n",
       "    <tr style=\"text-align: right;\">\n",
       "      <th></th>\n",
       "      <th>Sample</th>\n",
       "      <th>Months</th>\n",
       "      <th>Status</th>\n",
       "    </tr>\n",
       "  </thead>\n",
       "  <tbody>\n",
       "    <tr>\n",
       "      <th>0</th>\n",
       "      <td>SA9755</td>\n",
       "      <td>26.5</td>\n",
       "      <td>0</td>\n",
       "    </tr>\n",
       "    <tr>\n",
       "      <th>1</th>\n",
       "      <td>HE3202</td>\n",
       "      <td>30.5</td>\n",
       "      <td>0</td>\n",
       "    </tr>\n",
       "    <tr>\n",
       "      <th>2</th>\n",
       "      <td>TU0428</td>\n",
       "      <td>3.7</td>\n",
       "      <td>1</td>\n",
       "    </tr>\n",
       "    <tr>\n",
       "      <th>3</th>\n",
       "      <td>Y2087</td>\n",
       "      <td>14.9</td>\n",
       "      <td>1</td>\n",
       "    </tr>\n",
       "    <tr>\n",
       "      <th>4</th>\n",
       "      <td>M4945</td>\n",
       "      <td>32.1</td>\n",
       "      <td>0</td>\n",
       "    </tr>\n",
       "  </tbody>\n",
       "</table>\n",
       "</div>"
      ],
      "text/plain": [
       "   Sample  Months  Status\n",
       "0  SA9755    26.5       0\n",
       "1  HE3202    30.5       0\n",
       "2  TU0428     3.7       1\n",
       "3   Y2087    14.9       1\n",
       "4   M4945    32.1       0"
      ]
     },
     "execution_count": 23,
     "metadata": {},
     "output_type": "execute_result"
    }
   ],
   "source": [
    "survival_rizvi = pd.read_excel('nature24473_MOESM5_survival.xlsx', sheet_name='Survival Rizvi et al.')\n",
    "survival_rizvi.head()"
   ]
  },
  {
   "cell_type": "code",
   "execution_count": 24,
   "id": "7d9096a7",
   "metadata": {},
   "outputs": [
    {
     "data": {
      "text/plain": [
       "(34, 3)"
      ]
     },
     "execution_count": 24,
     "metadata": {},
     "output_type": "execute_result"
    }
   ],
   "source": [
    "survival_rizvi.shape"
   ]
  },
  {
   "cell_type": "code",
   "execution_count": 25,
   "id": "04c1cf21",
   "metadata": {},
   "outputs": [
    {
     "data": {
      "text/plain": [
       "set()"
      ]
     },
     "execution_count": 25,
     "metadata": {},
     "output_type": "execute_result"
    }
   ],
   "source": [
    "set(neoag_rizvi['Sample']) - set(survival_rizvi['Sample'])"
   ]
  },
  {
   "cell_type": "code",
   "execution_count": 26,
   "id": "c94fc657",
   "metadata": {},
   "outputs": [
    {
     "data": {
      "text/plain": [
       "{'VA1330', 'VA7859'}"
      ]
     },
     "execution_count": 26,
     "metadata": {},
     "output_type": "execute_result"
    }
   ],
   "source": [
    "set(survival_rizvi['Sample']) - set(neoag_rizvi['Sample'])\n",
    "\n",
    "# two patients present in survival but not neoantigens"
   ]
  },
  {
   "cell_type": "code",
   "execution_count": 27,
   "id": "dee7347b",
   "metadata": {},
   "outputs": [
    {
     "data": {
      "text/plain": [
       "count    34.000000\n",
       "mean     19.808824\n",
       "std      11.125247\n",
       "min       2.100000\n",
       "25%      13.775000\n",
       "50%      22.300000\n",
       "75%      28.125000\n",
       "max      43.700000\n",
       "Name: Months, dtype: float64"
      ]
     },
     "execution_count": 27,
     "metadata": {},
     "output_type": "execute_result"
    }
   ],
   "source": [
    "survival_rizvi['Months'].describe()"
   ]
  },
  {
   "cell_type": "code",
   "execution_count": 28,
   "id": "2286272c",
   "metadata": {},
   "outputs": [
    {
     "data": {
      "text/plain": [
       "<AxesSubplot:>"
      ]
     },
     "execution_count": 28,
     "metadata": {},
     "output_type": "execute_result"
    },
    {
     "data": {
      "image/png": "[encoded data removed]",
      "text/plain": [
       "<Figure size 432x288 with 1 Axes>"
      ]
     },
     "metadata": {
      "needs_background": "light"
     },
     "output_type": "display_data"
    }
   ],
   "source": [
    "survival_rizvi['Months'].hist()"
   ]
  },
  {
   "cell_type": "markdown",
   "id": "d7f0f850",
   "metadata": {},
   "source": [
    "# Combine Datasets"
   ]
  },
  {
   "cell_type": "code",
   "execution_count": 29,
   "id": "85c6fb72",
   "metadata": {},
   "outputs": [
    {
     "data": {
      "text/html": [
       "<div>\n",
       "<style scoped>\n",
       "    .dataframe tbody tr th:only-of-type {\n",
       "        vertical-align: middle;\n",
       "    }\n",
       "\n",
       "    .dataframe tbody tr th {\n",
       "        vertical-align: top;\n",
       "    }\n",
       "\n",
       "    .dataframe thead th {\n",
       "        text-align: right;\n",
       "    }\n",
       "</style>\n",
       "<table border=\"1\" class=\"dataframe\">\n",
       "  <thead>\n",
       "    <tr style=\"text-align: right;\">\n",
       "      <th></th>\n",
       "      <th>ID</th>\n",
       "      <th>MUTATION_ID</th>\n",
       "      <th>Sample</th>\n",
       "      <th>WT.Peptide</th>\n",
       "      <th>MT.Peptide</th>\n",
       "      <th>MT.Allele</th>\n",
       "      <th>WT.Score</th>\n",
       "      <th>MT.Score</th>\n",
       "      <th>HLA</th>\n",
       "    </tr>\n",
       "  </thead>\n",
       "  <tbody>\n",
       "    <tr>\n",
       "      <th>0</th>\n",
       "      <td>1</td>\n",
       "      <td>1_44084332_G_T_AL4602</td>\n",
       "      <td>AL4602</td>\n",
       "      <td>RGTETCGLI</td>\n",
       "      <td>RVTETCGLI</td>\n",
       "      <td>C1502</td>\n",
       "      <td>1208</td>\n",
       "      <td>124</td>\n",
       "      <td>A0301,A3201,B0801,B5101,C0702,C1502</td>\n",
       "    </tr>\n",
       "    <tr>\n",
       "      <th>1</th>\n",
       "      <td>2</td>\n",
       "      <td>1_56990069_C_A_AL4602</td>\n",
       "      <td>AL4602</td>\n",
       "      <td>IGRLRPHFL</td>\n",
       "      <td>IVRLRPHFL</td>\n",
       "      <td>B0801</td>\n",
       "      <td>305</td>\n",
       "      <td>165</td>\n",
       "      <td>A0301,A3201,B0801,B5101,C0702,C1502</td>\n",
       "    </tr>\n",
       "    <tr>\n",
       "      <th>2</th>\n",
       "      <td>3</td>\n",
       "      <td>1_152192039_C_A_AL4602</td>\n",
       "      <td>AL4602</td>\n",
       "      <td>SSNGPHGSV</td>\n",
       "      <td>SSNVPHGSV</td>\n",
       "      <td>C1502</td>\n",
       "      <td>73</td>\n",
       "      <td>210</td>\n",
       "      <td>A0301,A3201,B0801,B5101,C0702,C1502</td>\n",
       "    </tr>\n",
       "    <tr>\n",
       "      <th>3</th>\n",
       "      <td>4</td>\n",
       "      <td>1_158227298_G_T_AL4602</td>\n",
       "      <td>AL4602</td>\n",
       "      <td>ALWFRKRCF</td>\n",
       "      <td>ALWFRKLCF</td>\n",
       "      <td>A3201</td>\n",
       "      <td>547</td>\n",
       "      <td>284</td>\n",
       "      <td>A0301,A3201,B0801,B5101,C0702,C1502</td>\n",
       "    </tr>\n",
       "    <tr>\n",
       "      <th>4</th>\n",
       "      <td>5</td>\n",
       "      <td>1_159410378_C_G_AL4602</td>\n",
       "      <td>AL4602</td>\n",
       "      <td>NTREHDQLI</td>\n",
       "      <td>NSREHDQLI</td>\n",
       "      <td>C1502</td>\n",
       "      <td>41</td>\n",
       "      <td>42</td>\n",
       "      <td>A0301,A3201,B0801,B5101,C0702,C1502</td>\n",
       "    </tr>\n",
       "    <tr>\n",
       "      <th>...</th>\n",
       "      <td>...</td>\n",
       "      <td>...</td>\n",
       "      <td>...</td>\n",
       "      <td>...</td>\n",
       "      <td>...</td>\n",
       "      <td>...</td>\n",
       "      <td>...</td>\n",
       "      <td>...</td>\n",
       "      <td>...</td>\n",
       "    </tr>\n",
       "    <tr>\n",
       "      <th>39432</th>\n",
       "      <td>39433</td>\n",
       "      <td>7_21655905_G_A_Pat98</td>\n",
       "      <td>Pat98</td>\n",
       "      <td>ELRRFAKEI</td>\n",
       "      <td>ELRRFTKEI</td>\n",
       "      <td>B0801</td>\n",
       "      <td>525</td>\n",
       "      <td>213</td>\n",
       "      <td>A0301,A0101,B0801,B3503,C0701,C0401</td>\n",
       "    </tr>\n",
       "    <tr>\n",
       "      <th>39433</th>\n",
       "      <td>39434</td>\n",
       "      <td>8_75757705_T_C_Pat98</td>\n",
       "      <td>Pat98</td>\n",
       "      <td>SVWRRAVYL</td>\n",
       "      <td>SVWRRAAYL</td>\n",
       "      <td>B0801</td>\n",
       "      <td>696</td>\n",
       "      <td>501</td>\n",
       "      <td>A0301,A0101,B0801,B3503,C0701,C0401</td>\n",
       "    </tr>\n",
       "    <tr>\n",
       "      <th>39434</th>\n",
       "      <td>39435</td>\n",
       "      <td>8_113331119_G_A_Pat98</td>\n",
       "      <td>Pat98</td>\n",
       "      <td>ILTCRLGER</td>\n",
       "      <td>ILMCRLGER</td>\n",
       "      <td>A0301</td>\n",
       "      <td>3260</td>\n",
       "      <td>339</td>\n",
       "      <td>A0301,A0101,B0801,B3503,C0701,C0401</td>\n",
       "    </tr>\n",
       "    <tr>\n",
       "      <th>39435</th>\n",
       "      <td>39436</td>\n",
       "      <td>9_107267289_T_G_Pat98</td>\n",
       "      <td>Pat98</td>\n",
       "      <td>HLMVVVLFY</td>\n",
       "      <td>HLMVVGLFY</td>\n",
       "      <td>A0301</td>\n",
       "      <td>32</td>\n",
       "      <td>41</td>\n",
       "      <td>A0301,A0101,B0801,B3503,C0701,C0401</td>\n",
       "    </tr>\n",
       "    <tr>\n",
       "      <th>39436</th>\n",
       "      <td>39437</td>\n",
       "      <td>9_107267289_T_G_Pat98</td>\n",
       "      <td>Pat98</td>\n",
       "      <td>HLMVVVLFY</td>\n",
       "      <td>HLMVVGLFY</td>\n",
       "      <td>A0101</td>\n",
       "      <td>373</td>\n",
       "      <td>277</td>\n",
       "      <td>A0301,A0101,B0801,B3503,C0701,C0401</td>\n",
       "    </tr>\n",
       "  </tbody>\n",
       "</table>\n",
       "<p>70437 rows × 9 columns</p>\n",
       "</div>"
      ],
      "text/plain": [
       "          ID             MUTATION_ID  Sample WT.Peptide MT.Peptide MT.Allele  \\\n",
       "0          1   1_44084332_G_T_AL4602  AL4602  RGTETCGLI  RVTETCGLI     C1502   \n",
       "1          2   1_56990069_C_A_AL4602  AL4602  IGRLRPHFL  IVRLRPHFL     B0801   \n",
       "2          3  1_152192039_C_A_AL4602  AL4602  SSNGPHGSV  SSNVPHGSV     C1502   \n",
       "3          4  1_158227298_G_T_AL4602  AL4602  ALWFRKRCF  ALWFRKLCF     A3201   \n",
       "4          5  1_159410378_C_G_AL4602  AL4602  NTREHDQLI  NSREHDQLI     C1502   \n",
       "...      ...                     ...     ...        ...        ...       ...   \n",
       "39432  39433    7_21655905_G_A_Pat98   Pat98  ELRRFAKEI  ELRRFTKEI     B0801   \n",
       "39433  39434    8_75757705_T_C_Pat98   Pat98  SVWRRAVYL  SVWRRAAYL     B0801   \n",
       "39434  39435   8_113331119_G_A_Pat98   Pat98  ILTCRLGER  ILMCRLGER     A0301   \n",
       "39435  39436   9_107267289_T_G_Pat98   Pat98  HLMVVVLFY  HLMVVGLFY     A0301   \n",
       "39436  39437   9_107267289_T_G_Pat98   Pat98  HLMVVVLFY  HLMVVGLFY     A0101   \n",
       "\n",
       "       WT.Score  MT.Score                                  HLA  \n",
       "0          1208       124  A0301,A3201,B0801,B5101,C0702,C1502  \n",
       "1           305       165  A0301,A3201,B0801,B5101,C0702,C1502  \n",
       "2            73       210  A0301,A3201,B0801,B5101,C0702,C1502  \n",
       "3           547       284  A0301,A3201,B0801,B5101,C0702,C1502  \n",
       "4            41        42  A0301,A3201,B0801,B5101,C0702,C1502  \n",
       "...         ...       ...                                  ...  \n",
       "39432       525       213  A0301,A0101,B0801,B3503,C0701,C0401  \n",
       "39433       696       501  A0301,A0101,B0801,B3503,C0701,C0401  \n",
       "39434      3260       339  A0301,A0101,B0801,B3503,C0701,C0401  \n",
       "39435        32        41  A0301,A0101,B0801,B3503,C0701,C0401  \n",
       "39436       373       277  A0301,A0101,B0801,B3503,C0701,C0401  \n",
       "\n",
       "[70437 rows x 9 columns]"
      ]
     },
     "execution_count": 29,
     "metadata": {},
     "output_type": "execute_result"
    }
   ],
   "source": [
    "neoags_full = neoag_rizvi.append(neoag_snyder)\n",
    "neoags_full = neoags_full.append(neoag_vanallen)\n",
    "neoags_full"
   ]
  },
  {
   "cell_type": "code",
   "execution_count": 30,
   "id": "655e7b39",
   "metadata": {},
   "outputs": [
    {
     "data": {
      "text/html": [
       "<div>\n",
       "<style scoped>\n",
       "    .dataframe tbody tr th:only-of-type {\n",
       "        vertical-align: middle;\n",
       "    }\n",
       "\n",
       "    .dataframe tbody tr th {\n",
       "        vertical-align: top;\n",
       "    }\n",
       "\n",
       "    .dataframe thead th {\n",
       "        text-align: right;\n",
       "    }\n",
       "</style>\n",
       "<table border=\"1\" class=\"dataframe\">\n",
       "  <thead>\n",
       "    <tr style=\"text-align: right;\">\n",
       "      <th></th>\n",
       "      <th>Sample</th>\n",
       "      <th>Months</th>\n",
       "      <th>Status</th>\n",
       "    </tr>\n",
       "  </thead>\n",
       "  <tbody>\n",
       "    <tr>\n",
       "      <th>0</th>\n",
       "      <td>SA9755</td>\n",
       "      <td>26.500000</td>\n",
       "      <td>0</td>\n",
       "    </tr>\n",
       "    <tr>\n",
       "      <th>1</th>\n",
       "      <td>HE3202</td>\n",
       "      <td>30.500000</td>\n",
       "      <td>0</td>\n",
       "    </tr>\n",
       "    <tr>\n",
       "      <th>2</th>\n",
       "      <td>TU0428</td>\n",
       "      <td>3.700000</td>\n",
       "      <td>1</td>\n",
       "    </tr>\n",
       "    <tr>\n",
       "      <th>3</th>\n",
       "      <td>Y2087</td>\n",
       "      <td>14.900000</td>\n",
       "      <td>1</td>\n",
       "    </tr>\n",
       "    <tr>\n",
       "      <th>4</th>\n",
       "      <td>M4945</td>\n",
       "      <td>32.100000</td>\n",
       "      <td>0</td>\n",
       "    </tr>\n",
       "    <tr>\n",
       "      <th>...</th>\n",
       "      <td>...</td>\n",
       "      <td>...</td>\n",
       "      <td>...</td>\n",
       "    </tr>\n",
       "    <tr>\n",
       "      <th>98</th>\n",
       "      <td>Pat86</td>\n",
       "      <td>9.632866</td>\n",
       "      <td>1</td>\n",
       "    </tr>\n",
       "    <tr>\n",
       "      <th>99</th>\n",
       "      <td>Pat88</td>\n",
       "      <td>32.515033</td>\n",
       "      <td>0</td>\n",
       "    </tr>\n",
       "    <tr>\n",
       "      <th>100</th>\n",
       "      <td>Pat90</td>\n",
       "      <td>33.041060</td>\n",
       "      <td>0</td>\n",
       "    </tr>\n",
       "    <tr>\n",
       "      <th>101</th>\n",
       "      <td>Pat92</td>\n",
       "      <td>4.043831</td>\n",
       "      <td>1</td>\n",
       "    </tr>\n",
       "    <tr>\n",
       "      <th>102</th>\n",
       "      <td>Pat98</td>\n",
       "      <td>4.602735</td>\n",
       "      <td>1</td>\n",
       "    </tr>\n",
       "  </tbody>\n",
       "</table>\n",
       "<p>201 rows × 3 columns</p>\n",
       "</div>"
      ],
      "text/plain": [
       "     Sample     Months Status\n",
       "0    SA9755  26.500000      0\n",
       "1    HE3202  30.500000      0\n",
       "2    TU0428   3.700000      1\n",
       "3     Y2087  14.900000      1\n",
       "4     M4945  32.100000      0\n",
       "..      ...        ...    ...\n",
       "98    Pat86   9.632866      1\n",
       "99    Pat88  32.515033      0\n",
       "100   Pat90  33.041060      0\n",
       "101   Pat92   4.043831      1\n",
       "102   Pat98   4.602735      1\n",
       "\n",
       "[201 rows x 3 columns]"
      ]
     },
     "execution_count": 30,
     "metadata": {},
     "output_type": "execute_result"
    }
   ],
   "source": [
    "survivals = survival_rizvi.append(survival_snyder)\n",
    "survivals = survivals.append(survival_vanallen)\n",
    "survivals"
   ]
  },
  {
   "cell_type": "code",
   "execution_count": 31,
   "id": "8ee840c9",
   "metadata": {},
   "outputs": [
    {
     "data": {
      "text/plain": [
       "1    132\n",
       "0     68\n",
       "Name: Status, dtype: int64"
      ]
     },
     "execution_count": 31,
     "metadata": {},
     "output_type": "execute_result"
    }
   ],
   "source": [
    "survivals = survivals[survivals['Status']!='-']\n",
    "survivals['Status'].value_counts()"
   ]
  },
  {
   "cell_type": "markdown",
   "id": "f207ea6e",
   "metadata": {},
   "source": [
    "## Survival Curves"
   ]
  },
  {
   "cell_type": "markdown",
   "id": "8e184013",
   "metadata": {},
   "source": [
    "### Look at survival for entire cohort"
   ]
  },
  {
   "cell_type": "code",
   "execution_count": 32,
   "id": "757ed81f",
   "metadata": {},
   "outputs": [
    {
     "data": {
      "text/plain": [
       "<lifelines.KaplanMeierFitter:\"KM_estimate\", fitted with 200 total observations, 68 right-censored observations>"
      ]
     },
     "execution_count": 32,
     "metadata": {},
     "output_type": "execute_result"
    }
   ],
   "source": [
    "kmf = KaplanMeierFitter()\n",
    " \n",
    "months = survivals['Months']\n",
    "status = survivals['Status'] \n",
    "kmf.fit(months,status)"
   ]
  },
  {
   "cell_type": "code",
   "execution_count": 33,
   "id": "e794cb93",
   "metadata": {},
   "outputs": [
    {
     "data": {
      "text/plain": [
       "<AxesSubplot:title={'center':'Kaplan-Meier Survival Curve'}, xlabel='timeline'>"
      ]
     },
     "execution_count": 33,
     "metadata": {},
     "output_type": "execute_result"
    },
    {
     "data": {
      "image/png": "[encoded data removed]",
      "text/plain": [
       "<Figure size 432x288 with 1 Axes>"
      ]
     },
     "metadata": {
      "needs_background": "light"
     },
     "output_type": "display_data"
    }
   ],
   "source": [
    "kmf.plot(title='Kaplan-Meier Survival Curve')"
   ]
  },
  {
   "cell_type": "markdown",
   "id": "3b9d8a91",
   "metadata": {},
   "source": [
    "### Threshold patients based on length of survival"
   ]
  },
  {
   "cell_type": "code",
   "execution_count": 34,
   "id": "df210f8d",
   "metadata": {},
   "outputs": [],
   "source": [
    "threshold = []\n",
    "\n",
    "for patient in survivals['Sample']:\n",
    "    months = survivals[survivals['Sample']==patient]['Months'].values[0]\n",
    "    if months > 40:\n",
    "        threshold.append(1)\n",
    "    else:\n",
    "        threshold.append(0)\n",
    "\n",
    "survivals_thresholded = survivals\n",
    "survivals_thresholded['40mos'] = threshold"
   ]
  },
  {
   "cell_type": "code",
   "execution_count": 35,
   "id": "b3e452d8",
   "metadata": {},
   "outputs": [
    {
     "data": {
      "text/html": [
       "<div>\n",
       "<style scoped>\n",
       "    .dataframe tbody tr th:only-of-type {\n",
       "        vertical-align: middle;\n",
       "    }\n",
       "\n",
       "    .dataframe tbody tr th {\n",
       "        vertical-align: top;\n",
       "    }\n",
       "\n",
       "    .dataframe thead th {\n",
       "        text-align: right;\n",
       "    }\n",
       "</style>\n",
       "<table border=\"1\" class=\"dataframe\">\n",
       "  <thead>\n",
       "    <tr style=\"text-align: right;\">\n",
       "      <th></th>\n",
       "      <th>Sample</th>\n",
       "      <th>Months</th>\n",
       "      <th>Status</th>\n",
       "      <th>40mos</th>\n",
       "    </tr>\n",
       "  </thead>\n",
       "  <tbody>\n",
       "    <tr>\n",
       "      <th>0</th>\n",
       "      <td>SA9755</td>\n",
       "      <td>26.500000</td>\n",
       "      <td>0</td>\n",
       "      <td>0</td>\n",
       "    </tr>\n",
       "    <tr>\n",
       "      <th>1</th>\n",
       "      <td>HE3202</td>\n",
       "      <td>30.500000</td>\n",
       "      <td>0</td>\n",
       "      <td>0</td>\n",
       "    </tr>\n",
       "    <tr>\n",
       "      <th>2</th>\n",
       "      <td>TU0428</td>\n",
       "      <td>3.700000</td>\n",
       "      <td>1</td>\n",
       "      <td>0</td>\n",
       "    </tr>\n",
       "    <tr>\n",
       "      <th>3</th>\n",
       "      <td>Y2087</td>\n",
       "      <td>14.900000</td>\n",
       "      <td>1</td>\n",
       "      <td>0</td>\n",
       "    </tr>\n",
       "    <tr>\n",
       "      <th>4</th>\n",
       "      <td>M4945</td>\n",
       "      <td>32.100000</td>\n",
       "      <td>0</td>\n",
       "      <td>0</td>\n",
       "    </tr>\n",
       "    <tr>\n",
       "      <th>...</th>\n",
       "      <td>...</td>\n",
       "      <td>...</td>\n",
       "      <td>...</td>\n",
       "      <td>...</td>\n",
       "    </tr>\n",
       "    <tr>\n",
       "      <th>98</th>\n",
       "      <td>Pat86</td>\n",
       "      <td>9.632866</td>\n",
       "      <td>1</td>\n",
       "      <td>0</td>\n",
       "    </tr>\n",
       "    <tr>\n",
       "      <th>99</th>\n",
       "      <td>Pat88</td>\n",
       "      <td>32.515033</td>\n",
       "      <td>0</td>\n",
       "      <td>0</td>\n",
       "    </tr>\n",
       "    <tr>\n",
       "      <th>100</th>\n",
       "      <td>Pat90</td>\n",
       "      <td>33.041060</td>\n",
       "      <td>0</td>\n",
       "      <td>0</td>\n",
       "    </tr>\n",
       "    <tr>\n",
       "      <th>101</th>\n",
       "      <td>Pat92</td>\n",
       "      <td>4.043831</td>\n",
       "      <td>1</td>\n",
       "      <td>0</td>\n",
       "    </tr>\n",
       "    <tr>\n",
       "      <th>102</th>\n",
       "      <td>Pat98</td>\n",
       "      <td>4.602735</td>\n",
       "      <td>1</td>\n",
       "      <td>0</td>\n",
       "    </tr>\n",
       "  </tbody>\n",
       "</table>\n",
       "<p>200 rows × 4 columns</p>\n",
       "</div>"
      ],
      "text/plain": [
       "     Sample     Months Status  40mos\n",
       "0    SA9755  26.500000      0      0\n",
       "1    HE3202  30.500000      0      0\n",
       "2    TU0428   3.700000      1      0\n",
       "3     Y2087  14.900000      1      0\n",
       "4     M4945  32.100000      0      0\n",
       "..      ...        ...    ...    ...\n",
       "98    Pat86   9.632866      1      0\n",
       "99    Pat88  32.515033      0      0\n",
       "100   Pat90  33.041060      0      0\n",
       "101   Pat92   4.043831      1      0\n",
       "102   Pat98   4.602735      1      0\n",
       "\n",
       "[200 rows x 4 columns]"
      ]
     },
     "execution_count": 35,
     "metadata": {},
     "output_type": "execute_result"
    }
   ],
   "source": [
    "survivals_thresholded"
   ]
  },
  {
   "cell_type": "code",
   "execution_count": 36,
   "id": "97fc3470",
   "metadata": {},
   "outputs": [
    {
     "data": {
      "text/plain": [
       "0"
      ]
     },
     "execution_count": 36,
     "metadata": {},
     "output_type": "execute_result"
    }
   ],
   "source": [
    "patient_survivals = dict(zip(survivals_thresholded['Sample'], survivals_thresholded['40mos']))\n",
    "patient_survivals['Pat03']"
   ]
  },
  {
   "cell_type": "markdown",
   "id": "ba2472bf",
   "metadata": {},
   "source": [
    "### Separate survival curves based on length of time survived"
   ]
  },
  {
   "cell_type": "code",
   "execution_count": 37,
   "id": "f0cd2898",
   "metadata": {},
   "outputs": [
    {
     "data": {
      "image/png": "[encoded data removed]",
      "text/plain": [
       "<Figure size 432x288 with 1 Axes>"
      ]
     },
     "metadata": {
      "needs_background": "light"
     },
     "output_type": "display_data"
    }
   ],
   "source": [
    "T = survivals_thresholded['Months']\n",
    "E = survivals_thresholded['Status']\n",
    "\n",
    "groups = survivals_thresholded['40mos']\n",
    "ix = (groups == 1)\n",
    "\n",
    "kmf.fit(T[~ix], E[~ix], label='short')\n",
    "ax = kmf.plot_survival_function()\n",
    "\n",
    "kmf.fit(T[ix], E[ix], label='long')\n",
    "ax = kmf.plot_survival_function(ax=ax)"
   ]
  },
  {
   "cell_type": "code",
   "execution_count": 38,
   "id": "5c18fcb9",
   "metadata": {},
   "outputs": [
    {
     "data": {
      "text/html": [
       "<div>\n",
       "<style scoped>\n",
       "    .dataframe tbody tr th:only-of-type {\n",
       "        vertical-align: middle;\n",
       "    }\n",
       "\n",
       "    .dataframe tbody tr th {\n",
       "        vertical-align: top;\n",
       "    }\n",
       "\n",
       "    .dataframe thead th {\n",
       "        text-align: right;\n",
       "    }\n",
       "</style>\n",
       "<table border=\"1\" class=\"dataframe\">\n",
       "  <thead>\n",
       "    <tr style=\"text-align: right;\">\n",
       "      <th></th>\n",
       "      <th>Sample</th>\n",
       "      <th>MT.Peptide</th>\n",
       "    </tr>\n",
       "  </thead>\n",
       "  <tbody>\n",
       "    <tr>\n",
       "      <th>0</th>\n",
       "      <td>AL4602</td>\n",
       "      <td>RVTETCGLI</td>\n",
       "    </tr>\n",
       "    <tr>\n",
       "      <th>1</th>\n",
       "      <td>AL4602</td>\n",
       "      <td>IVRLRPHFL</td>\n",
       "    </tr>\n",
       "    <tr>\n",
       "      <th>2</th>\n",
       "      <td>AL4602</td>\n",
       "      <td>SSNVPHGSV</td>\n",
       "    </tr>\n",
       "    <tr>\n",
       "      <th>3</th>\n",
       "      <td>AL4602</td>\n",
       "      <td>ALWFRKLCF</td>\n",
       "    </tr>\n",
       "    <tr>\n",
       "      <th>4</th>\n",
       "      <td>AL4602</td>\n",
       "      <td>NSREHDQLI</td>\n",
       "    </tr>\n",
       "    <tr>\n",
       "      <th>...</th>\n",
       "      <td>...</td>\n",
       "      <td>...</td>\n",
       "    </tr>\n",
       "    <tr>\n",
       "      <th>39432</th>\n",
       "      <td>Pat98</td>\n",
       "      <td>ELRRFTKEI</td>\n",
       "    </tr>\n",
       "    <tr>\n",
       "      <th>39433</th>\n",
       "      <td>Pat98</td>\n",
       "      <td>SVWRRAAYL</td>\n",
       "    </tr>\n",
       "    <tr>\n",
       "      <th>39434</th>\n",
       "      <td>Pat98</td>\n",
       "      <td>ILMCRLGER</td>\n",
       "    </tr>\n",
       "    <tr>\n",
       "      <th>39435</th>\n",
       "      <td>Pat98</td>\n",
       "      <td>HLMVVGLFY</td>\n",
       "    </tr>\n",
       "    <tr>\n",
       "      <th>39436</th>\n",
       "      <td>Pat98</td>\n",
       "      <td>HLMVVGLFY</td>\n",
       "    </tr>\n",
       "  </tbody>\n",
       "</table>\n",
       "<p>70437 rows × 2 columns</p>\n",
       "</div>"
      ],
      "text/plain": [
       "       Sample MT.Peptide\n",
       "0      AL4602  RVTETCGLI\n",
       "1      AL4602  IVRLRPHFL\n",
       "2      AL4602  SSNVPHGSV\n",
       "3      AL4602  ALWFRKLCF\n",
       "4      AL4602  NSREHDQLI\n",
       "...       ...        ...\n",
       "39432   Pat98  ELRRFTKEI\n",
       "39433   Pat98  SVWRRAAYL\n",
       "39434   Pat98  ILMCRLGER\n",
       "39435   Pat98  HLMVVGLFY\n",
       "39436   Pat98  HLMVVGLFY\n",
       "\n",
       "[70437 rows x 2 columns]"
      ]
     },
     "execution_count": 38,
     "metadata": {},
     "output_type": "execute_result"
    }
   ],
   "source": [
    "neoags = neoags_full[['Sample', 'MT.Peptide']]\n",
    "neoags"
   ]
  },
  {
   "cell_type": "code",
   "execution_count": 39,
   "id": "c77d09b6",
   "metadata": {},
   "outputs": [
    {
     "data": {
      "text/html": [
       "<div>\n",
       "<style scoped>\n",
       "    .dataframe tbody tr th:only-of-type {\n",
       "        vertical-align: middle;\n",
       "    }\n",
       "\n",
       "    .dataframe tbody tr th {\n",
       "        vertical-align: top;\n",
       "    }\n",
       "\n",
       "    .dataframe thead th {\n",
       "        text-align: right;\n",
       "    }\n",
       "</style>\n",
       "<table border=\"1\" class=\"dataframe\">\n",
       "  <thead>\n",
       "    <tr style=\"text-align: right;\">\n",
       "      <th></th>\n",
       "      <th>Sample</th>\n",
       "      <th>MT.Peptide</th>\n",
       "      <th>peptide_status</th>\n",
       "    </tr>\n",
       "  </thead>\n",
       "  <tbody>\n",
       "    <tr>\n",
       "      <th>0</th>\n",
       "      <td>AL4602</td>\n",
       "      <td>RVTETCGLI</td>\n",
       "      <td>0</td>\n",
       "    </tr>\n",
       "    <tr>\n",
       "      <th>1</th>\n",
       "      <td>AL4602</td>\n",
       "      <td>IVRLRPHFL</td>\n",
       "      <td>0</td>\n",
       "    </tr>\n",
       "    <tr>\n",
       "      <th>2</th>\n",
       "      <td>AL4602</td>\n",
       "      <td>SSNVPHGSV</td>\n",
       "      <td>0</td>\n",
       "    </tr>\n",
       "    <tr>\n",
       "      <th>3</th>\n",
       "      <td>AL4602</td>\n",
       "      <td>ALWFRKLCF</td>\n",
       "      <td>0</td>\n",
       "    </tr>\n",
       "    <tr>\n",
       "      <th>4</th>\n",
       "      <td>AL4602</td>\n",
       "      <td>NSREHDQLI</td>\n",
       "      <td>0</td>\n",
       "    </tr>\n",
       "    <tr>\n",
       "      <th>...</th>\n",
       "      <td>...</td>\n",
       "      <td>...</td>\n",
       "      <td>...</td>\n",
       "    </tr>\n",
       "    <tr>\n",
       "      <th>39432</th>\n",
       "      <td>Pat98</td>\n",
       "      <td>ELRRFTKEI</td>\n",
       "      <td>0</td>\n",
       "    </tr>\n",
       "    <tr>\n",
       "      <th>39433</th>\n",
       "      <td>Pat98</td>\n",
       "      <td>SVWRRAAYL</td>\n",
       "      <td>0</td>\n",
       "    </tr>\n",
       "    <tr>\n",
       "      <th>39434</th>\n",
       "      <td>Pat98</td>\n",
       "      <td>ILMCRLGER</td>\n",
       "      <td>0</td>\n",
       "    </tr>\n",
       "    <tr>\n",
       "      <th>39435</th>\n",
       "      <td>Pat98</td>\n",
       "      <td>HLMVVGLFY</td>\n",
       "      <td>0</td>\n",
       "    </tr>\n",
       "    <tr>\n",
       "      <th>39436</th>\n",
       "      <td>Pat98</td>\n",
       "      <td>HLMVVGLFY</td>\n",
       "      <td>0</td>\n",
       "    </tr>\n",
       "  </tbody>\n",
       "</table>\n",
       "<p>70437 rows × 3 columns</p>\n",
       "</div>"
      ],
      "text/plain": [
       "       Sample MT.Peptide peptide_status\n",
       "0      AL4602  RVTETCGLI              0\n",
       "1      AL4602  IVRLRPHFL              0\n",
       "2      AL4602  SSNVPHGSV              0\n",
       "3      AL4602  ALWFRKLCF              0\n",
       "4      AL4602  NSREHDQLI              0\n",
       "...       ...        ...            ...\n",
       "39432   Pat98  ELRRFTKEI              0\n",
       "39433   Pat98  SVWRRAAYL              0\n",
       "39434   Pat98  ILMCRLGER              0\n",
       "39435   Pat98  HLMVVGLFY              0\n",
       "39436   Pat98  HLMVVGLFY              0\n",
       "\n",
       "[70437 rows x 3 columns]"
      ]
     },
     "execution_count": 39,
     "metadata": {},
     "output_type": "execute_result"
    }
   ],
   "source": [
    "# denote for each peptide whether the patient survived past threshold\n",
    "\n",
    "peptide_status = []\n",
    "for s in neoags['Sample']:\n",
    "    if s in patient_survivals.keys():\n",
    "        status = patient_survivals[s]\n",
    "    else:\n",
    "        status = 'NA'\n",
    "    peptide_status.append(status)\n",
    "    \n",
    "neoags['peptide_status'] = peptide_status\n",
    "neoags"
   ]
  },
  {
   "cell_type": "code",
   "execution_count": 40,
   "id": "69760cfd",
   "metadata": {},
   "outputs": [],
   "source": [
    "neoags = neoags[neoags['peptide_status']!='NA']"
   ]
  },
  {
   "cell_type": "markdown",
   "id": "86064138",
   "metadata": {},
   "source": [
    "### Generate features!"
   ]
  },
  {
   "cell_type": "markdown",
   "id": "063e67e2",
   "metadata": {},
   "source": [
    "#### AA count and sum of each AA pairing"
   ]
  },
  {
   "cell_type": "code",
   "execution_count": 41,
   "id": "fea099f7",
   "metadata": {},
   "outputs": [
    {
     "name": "stderr",
     "output_type": "stream",
     "text": [
      "100%|███████████████████████████████████████████| 20/20 [04:01<00:00, 12.08s/it]\n"
     ]
    },
    {
     "data": {
      "text/html": [
       "<div>\n",
       "<style scoped>\n",
       "    .dataframe tbody tr th:only-of-type {\n",
       "        vertical-align: middle;\n",
       "    }\n",
       "\n",
       "    .dataframe tbody tr th {\n",
       "        vertical-align: top;\n",
       "    }\n",
       "\n",
       "    .dataframe thead th {\n",
       "        text-align: right;\n",
       "    }\n",
       "</style>\n",
       "<table border=\"1\" class=\"dataframe\">\n",
       "  <thead>\n",
       "    <tr style=\"text-align: right;\">\n",
       "      <th></th>\n",
       "      <th>Sample</th>\n",
       "      <th>MT.Peptide</th>\n",
       "      <th>peptide_status</th>\n",
       "      <th>A_count</th>\n",
       "      <th>A+A_count</th>\n",
       "      <th>A+C_count</th>\n",
       "      <th>A+D_count</th>\n",
       "      <th>A+E_count</th>\n",
       "      <th>A+F_count</th>\n",
       "      <th>A+G_count</th>\n",
       "      <th>...</th>\n",
       "      <th>Y+M_count</th>\n",
       "      <th>Y+N_count</th>\n",
       "      <th>Y+P_count</th>\n",
       "      <th>Y+Q_count</th>\n",
       "      <th>Y+R_count</th>\n",
       "      <th>Y+S_count</th>\n",
       "      <th>Y+T_count</th>\n",
       "      <th>Y+V_count</th>\n",
       "      <th>Y+W_count</th>\n",
       "      <th>Y+Y_count</th>\n",
       "    </tr>\n",
       "  </thead>\n",
       "  <tbody>\n",
       "    <tr>\n",
       "      <th>0</th>\n",
       "      <td>AL4602</td>\n",
       "      <td>RVTETCGLI</td>\n",
       "      <td>0</td>\n",
       "      <td>0</td>\n",
       "      <td>0</td>\n",
       "      <td>1</td>\n",
       "      <td>0</td>\n",
       "      <td>1</td>\n",
       "      <td>0</td>\n",
       "      <td>1</td>\n",
       "      <td>...</td>\n",
       "      <td>0</td>\n",
       "      <td>0</td>\n",
       "      <td>0</td>\n",
       "      <td>0</td>\n",
       "      <td>1</td>\n",
       "      <td>0</td>\n",
       "      <td>2</td>\n",
       "      <td>1</td>\n",
       "      <td>0</td>\n",
       "      <td>0</td>\n",
       "    </tr>\n",
       "    <tr>\n",
       "      <th>1</th>\n",
       "      <td>AL4602</td>\n",
       "      <td>IVRLRPHFL</td>\n",
       "      <td>0</td>\n",
       "      <td>0</td>\n",
       "      <td>0</td>\n",
       "      <td>0</td>\n",
       "      <td>0</td>\n",
       "      <td>0</td>\n",
       "      <td>1</td>\n",
       "      <td>0</td>\n",
       "      <td>...</td>\n",
       "      <td>0</td>\n",
       "      <td>0</td>\n",
       "      <td>1</td>\n",
       "      <td>0</td>\n",
       "      <td>2</td>\n",
       "      <td>0</td>\n",
       "      <td>0</td>\n",
       "      <td>1</td>\n",
       "      <td>0</td>\n",
       "      <td>0</td>\n",
       "    </tr>\n",
       "    <tr>\n",
       "      <th>2</th>\n",
       "      <td>AL4602</td>\n",
       "      <td>SSNVPHGSV</td>\n",
       "      <td>0</td>\n",
       "      <td>0</td>\n",
       "      <td>0</td>\n",
       "      <td>0</td>\n",
       "      <td>0</td>\n",
       "      <td>0</td>\n",
       "      <td>0</td>\n",
       "      <td>1</td>\n",
       "      <td>...</td>\n",
       "      <td>0</td>\n",
       "      <td>1</td>\n",
       "      <td>1</td>\n",
       "      <td>0</td>\n",
       "      <td>0</td>\n",
       "      <td>3</td>\n",
       "      <td>0</td>\n",
       "      <td>2</td>\n",
       "      <td>0</td>\n",
       "      <td>0</td>\n",
       "    </tr>\n",
       "    <tr>\n",
       "      <th>3</th>\n",
       "      <td>AL4602</td>\n",
       "      <td>ALWFRKLCF</td>\n",
       "      <td>0</td>\n",
       "      <td>1</td>\n",
       "      <td>2</td>\n",
       "      <td>2</td>\n",
       "      <td>1</td>\n",
       "      <td>1</td>\n",
       "      <td>3</td>\n",
       "      <td>1</td>\n",
       "      <td>...</td>\n",
       "      <td>0</td>\n",
       "      <td>0</td>\n",
       "      <td>0</td>\n",
       "      <td>0</td>\n",
       "      <td>1</td>\n",
       "      <td>0</td>\n",
       "      <td>0</td>\n",
       "      <td>0</td>\n",
       "      <td>1</td>\n",
       "      <td>0</td>\n",
       "    </tr>\n",
       "    <tr>\n",
       "      <th>4</th>\n",
       "      <td>AL4602</td>\n",
       "      <td>NSREHDQLI</td>\n",
       "      <td>0</td>\n",
       "      <td>0</td>\n",
       "      <td>0</td>\n",
       "      <td>0</td>\n",
       "      <td>1</td>\n",
       "      <td>1</td>\n",
       "      <td>0</td>\n",
       "      <td>0</td>\n",
       "      <td>...</td>\n",
       "      <td>0</td>\n",
       "      <td>1</td>\n",
       "      <td>0</td>\n",
       "      <td>1</td>\n",
       "      <td>1</td>\n",
       "      <td>1</td>\n",
       "      <td>0</td>\n",
       "      <td>0</td>\n",
       "      <td>0</td>\n",
       "      <td>0</td>\n",
       "    </tr>\n",
       "    <tr>\n",
       "      <th>...</th>\n",
       "      <td>...</td>\n",
       "      <td>...</td>\n",
       "      <td>...</td>\n",
       "      <td>...</td>\n",
       "      <td>...</td>\n",
       "      <td>...</td>\n",
       "      <td>...</td>\n",
       "      <td>...</td>\n",
       "      <td>...</td>\n",
       "      <td>...</td>\n",
       "      <td>...</td>\n",
       "      <td>...</td>\n",
       "      <td>...</td>\n",
       "      <td>...</td>\n",
       "      <td>...</td>\n",
       "      <td>...</td>\n",
       "      <td>...</td>\n",
       "      <td>...</td>\n",
       "      <td>...</td>\n",
       "      <td>...</td>\n",
       "      <td>...</td>\n",
       "    </tr>\n",
       "    <tr>\n",
       "      <th>39432</th>\n",
       "      <td>Pat98</td>\n",
       "      <td>ELRRFTKEI</td>\n",
       "      <td>0</td>\n",
       "      <td>0</td>\n",
       "      <td>0</td>\n",
       "      <td>0</td>\n",
       "      <td>0</td>\n",
       "      <td>2</td>\n",
       "      <td>1</td>\n",
       "      <td>0</td>\n",
       "      <td>...</td>\n",
       "      <td>0</td>\n",
       "      <td>0</td>\n",
       "      <td>0</td>\n",
       "      <td>0</td>\n",
       "      <td>2</td>\n",
       "      <td>0</td>\n",
       "      <td>1</td>\n",
       "      <td>0</td>\n",
       "      <td>0</td>\n",
       "      <td>0</td>\n",
       "    </tr>\n",
       "    <tr>\n",
       "      <th>39433</th>\n",
       "      <td>Pat98</td>\n",
       "      <td>SVWRRAAYL</td>\n",
       "      <td>0</td>\n",
       "      <td>2</td>\n",
       "      <td>4</td>\n",
       "      <td>2</td>\n",
       "      <td>2</td>\n",
       "      <td>2</td>\n",
       "      <td>2</td>\n",
       "      <td>2</td>\n",
       "      <td>...</td>\n",
       "      <td>1</td>\n",
       "      <td>1</td>\n",
       "      <td>1</td>\n",
       "      <td>1</td>\n",
       "      <td>3</td>\n",
       "      <td>2</td>\n",
       "      <td>1</td>\n",
       "      <td>2</td>\n",
       "      <td>2</td>\n",
       "      <td>2</td>\n",
       "    </tr>\n",
       "    <tr>\n",
       "      <th>39434</th>\n",
       "      <td>Pat98</td>\n",
       "      <td>ILMCRLGER</td>\n",
       "      <td>0</td>\n",
       "      <td>0</td>\n",
       "      <td>0</td>\n",
       "      <td>1</td>\n",
       "      <td>0</td>\n",
       "      <td>1</td>\n",
       "      <td>0</td>\n",
       "      <td>1</td>\n",
       "      <td>...</td>\n",
       "      <td>1</td>\n",
       "      <td>0</td>\n",
       "      <td>0</td>\n",
       "      <td>0</td>\n",
       "      <td>2</td>\n",
       "      <td>0</td>\n",
       "      <td>0</td>\n",
       "      <td>0</td>\n",
       "      <td>0</td>\n",
       "      <td>0</td>\n",
       "    </tr>\n",
       "    <tr>\n",
       "      <th>39435</th>\n",
       "      <td>Pat98</td>\n",
       "      <td>HLMVVGLFY</td>\n",
       "      <td>0</td>\n",
       "      <td>0</td>\n",
       "      <td>0</td>\n",
       "      <td>0</td>\n",
       "      <td>0</td>\n",
       "      <td>0</td>\n",
       "      <td>1</td>\n",
       "      <td>1</td>\n",
       "      <td>...</td>\n",
       "      <td>2</td>\n",
       "      <td>1</td>\n",
       "      <td>1</td>\n",
       "      <td>1</td>\n",
       "      <td>1</td>\n",
       "      <td>1</td>\n",
       "      <td>1</td>\n",
       "      <td>3</td>\n",
       "      <td>1</td>\n",
       "      <td>2</td>\n",
       "    </tr>\n",
       "    <tr>\n",
       "      <th>39436</th>\n",
       "      <td>Pat98</td>\n",
       "      <td>HLMVVGLFY</td>\n",
       "      <td>0</td>\n",
       "      <td>0</td>\n",
       "      <td>0</td>\n",
       "      <td>0</td>\n",
       "      <td>0</td>\n",
       "      <td>0</td>\n",
       "      <td>1</td>\n",
       "      <td>1</td>\n",
       "      <td>...</td>\n",
       "      <td>2</td>\n",
       "      <td>1</td>\n",
       "      <td>1</td>\n",
       "      <td>1</td>\n",
       "      <td>1</td>\n",
       "      <td>1</td>\n",
       "      <td>1</td>\n",
       "      <td>3</td>\n",
       "      <td>1</td>\n",
       "      <td>2</td>\n",
       "    </tr>\n",
       "  </tbody>\n",
       "</table>\n",
       "<p>67544 rows × 423 columns</p>\n",
       "</div>"
      ],
      "text/plain": [
       "       Sample MT.Peptide peptide_status  A_count  A+A_count  A+C_count  \\\n",
       "0      AL4602  RVTETCGLI              0        0          0          1   \n",
       "1      AL4602  IVRLRPHFL              0        0          0          0   \n",
       "2      AL4602  SSNVPHGSV              0        0          0          0   \n",
       "3      AL4602  ALWFRKLCF              0        1          2          2   \n",
       "4      AL4602  NSREHDQLI              0        0          0          0   \n",
       "...       ...        ...            ...      ...        ...        ...   \n",
       "39432   Pat98  ELRRFTKEI              0        0          0          0   \n",
       "39433   Pat98  SVWRRAAYL              0        2          4          2   \n",
       "39434   Pat98  ILMCRLGER              0        0          0          1   \n",
       "39435   Pat98  HLMVVGLFY              0        0          0          0   \n",
       "39436   Pat98  HLMVVGLFY              0        0          0          0   \n",
       "\n",
       "       A+D_count  A+E_count  A+F_count  A+G_count  ...  Y+M_count  Y+N_count  \\\n",
       "0              0          1          0          1  ...          0          0   \n",
       "1              0          0          1          0  ...          0          0   \n",
       "2              0          0          0          1  ...          0          1   \n",
       "3              1          1          3          1  ...          0          0   \n",
       "4              1          1          0          0  ...          0          1   \n",
       "...          ...        ...        ...        ...  ...        ...        ...   \n",
       "39432          0          2          1          0  ...          0          0   \n",
       "39433          2          2          2          2  ...          1          1   \n",
       "39434          0          1          0          1  ...          1          0   \n",
       "39435          0          0          1          1  ...          2          1   \n",
       "39436          0          0          1          1  ...          2          1   \n",
       "\n",
       "       Y+P_count  Y+Q_count  Y+R_count  Y+S_count  Y+T_count  Y+V_count  \\\n",
       "0              0          0          1          0          2          1   \n",
       "1              1          0          2          0          0          1   \n",
       "2              1          0          0          3          0          2   \n",
       "3              0          0          1          0          0          0   \n",
       "4              0          1          1          1          0          0   \n",
       "...          ...        ...        ...        ...        ...        ...   \n",
       "39432          0          0          2          0          1          0   \n",
       "39433          1          1          3          2          1          2   \n",
       "39434          0          0          2          0          0          0   \n",
       "39435          1          1          1          1          1          3   \n",
       "39436          1          1          1          1          1          3   \n",
       "\n",
       "       Y+W_count  Y+Y_count  \n",
       "0              0          0  \n",
       "1              0          0  \n",
       "2              0          0  \n",
       "3              1          0  \n",
       "4              0          0  \n",
       "...          ...        ...  \n",
       "39432          0          0  \n",
       "39433          2          2  \n",
       "39434          0          0  \n",
       "39435          1          2  \n",
       "39436          1          2  \n",
       "\n",
       "[67544 rows x 423 columns]"
      ]
     },
     "execution_count": 41,
     "metadata": {},
     "output_type": "execute_result"
    }
   ],
   "source": [
    "from Bio import SeqIO\n",
    "from Bio.SeqUtils.ProtParam import ProteinAnalysis\n",
    "from tqdm import tqdm\n",
    "\n",
    "aa_list = ['A', 'C', 'D', 'E', 'F', 'G', 'H', 'I', 'K', 'L', 'M', 'N', 'P', 'Q', 'R', 'S', 'T', 'V', 'W', 'Y']\n",
    "\n",
    "for aa in tqdm(aa_list):\n",
    "    \n",
    "    neoags['%s_count' %aa] = 'NA'\n",
    "    counts = []\n",
    "    for p in neoags['MT.Peptide']:\n",
    "        aacount = ProteinAnalysis(p).count_amino_acids()[aa]\n",
    "        counts.append(aacount)   \n",
    "    neoags['%s_count' %aa] = counts\n",
    "    \n",
    "    for aa2 in aa_list:\n",
    "        \n",
    "        neoags['%s+%s_count' % (aa,aa2)] = 'NA'\n",
    "        sums = []\n",
    "        for p in neoags['MT.Peptide']:\n",
    "            aacount = ProteinAnalysis(p).count_amino_acids()[aa]\n",
    "            aa2count = ProteinAnalysis(p).count_amino_acids()[aa2]\n",
    "            sums.append(aacount+aa2count)\n",
    "        neoags['%s+%s_count' % (aa,aa2)] = sums\n",
    "    \n",
    "neoags"
   ]
  },
  {
   "cell_type": "code",
   "execution_count": 42,
   "id": "aa08e244",
   "metadata": {},
   "outputs": [
    {
     "data": {
      "text/plain": [
       "0    51730\n",
       "1    15814\n",
       "Name: peptide_status, dtype: int64"
      ]
     },
     "execution_count": 42,
     "metadata": {},
     "output_type": "execute_result"
    }
   ],
   "source": [
    "neoags['peptide_status'].value_counts()"
   ]
  },
  {
   "cell_type": "code",
   "execution_count": 43,
   "id": "dfc47b16",
   "metadata": {},
   "outputs": [
    {
     "data": {
      "text/plain": [
       "R+E_count    0.076265\n",
       "E+R_count    0.076265\n",
       "D+R_count    0.074558\n",
       "R+D_count    0.074558\n",
       "E+D_count    0.065418\n",
       "               ...   \n",
       "L+C_count   -0.057480\n",
       "P+L_count   -0.059571\n",
       "L+P_count   -0.059571\n",
       "L+F_count   -0.068508\n",
       "F+L_count   -0.068508\n",
       "Length: 420, dtype: float64"
      ]
     },
     "execution_count": 43,
     "metadata": {},
     "output_type": "execute_result"
    }
   ],
   "source": [
    "correlations = neoags.loc[:, 'A_count':].corrwith(neoags['peptide_status'].astype('int'))\n",
    "correlations.sort_values(ascending=False)"
   ]
  },
  {
   "cell_type": "markdown",
   "id": "41dbdce4",
   "metadata": {},
   "source": [
    "#### Hmmm, looks like all my features have a low correlation with the target :("
   ]
  },
  {
   "cell_type": "markdown",
   "id": "5f903ca2",
   "metadata": {},
   "source": [
    "### Let's try to train something to predict survival based on the features generated"
   ]
  },
  {
   "cell_type": "code",
   "execution_count": 44,
   "id": "949be7d1",
   "metadata": {},
   "outputs": [],
   "source": [
    "x = neoags.loc[:, 'A_count':]\n",
    "\n",
    "ytrue = neoags['peptide_status'].astype('int')"
   ]
  },
  {
   "cell_type": "code",
   "execution_count": 45,
   "id": "17d7746b",
   "metadata": {},
   "outputs": [],
   "source": [
    "import sklearn\n",
    "import sklearn.linear_model\n",
    "import sklearn.metrics\n",
    "\n",
    "from sklearn.metrics import accuracy_score, balanced_accuracy_score, roc_auc_score\n",
    "\n",
    "lr = sklearn.linear_model.LogisticRegression(max_iter=1000)\n",
    " "
   ]
  },
  {
   "cell_type": "code",
   "execution_count": 46,
   "id": "e9a4a91b",
   "metadata": {},
   "outputs": [
    {
     "name": "stdout",
     "output_type": "stream",
     "text": [
      "0.7658563306881441\n",
      "[[-2.06067103e-03 -4.12134206e-03 -5.63323524e-03  8.53561019e-04\n",
      "  -3.15119470e-04 -6.01345382e-03 -3.87784606e-03 -2.10645387e-03\n",
      "  -4.63074442e-03 -5.44507921e-03 -6.57108035e-03 -3.70465112e-03\n",
      "  -3.02867345e-03 -5.65124667e-03 -2.76624756e-03  3.05622358e-04\n",
      "  -3.31763255e-03 -2.22494130e-03 -3.40366692e-03 -3.46596243e-03\n",
      "  -5.20072862e-03 -3.57256421e-03 -5.63323524e-03 -7.14512843e-03\n",
      "  -6.58332165e-04 -1.82701265e-03 -7.52534700e-03 -5.38973925e-03\n",
      "  -3.61834706e-03 -6.14263760e-03 -6.95697240e-03 -8.08297354e-03\n",
      "  -5.21654430e-03 -4.54056664e-03 -7.16313986e-03 -4.27814075e-03\n",
      "  -1.20627083e-03 -4.82952573e-03 -3.73683449e-03 -4.91556011e-03\n",
      "  -4.97785562e-03 -6.71262181e-03  2.91423205e-03  8.53561019e-04\n",
      "  -6.58332165e-04  5.82846409e-03  4.65978361e-03 -1.03855074e-03\n",
      "   1.09705701e-03  2.86844920e-03  3.44158660e-04 -4.70176137e-04\n",
      "  -1.59617728e-03  1.27025196e-03  1.94622962e-03 -6.76343598e-04\n",
      "   2.20865551e-03  5.28052543e-03  1.65727053e-03  2.74996177e-03\n",
      "   1.57123615e-03  1.50894064e-03 -2.25825547e-04  1.74555156e-03\n",
      "  -3.15119470e-04 -1.82701265e-03  4.65978361e-03  3.49110312e-03\n",
      "  -2.20723123e-03 -7.16234762e-05  1.69976871e-03 -8.24521829e-04\n",
      "  -1.63885663e-03 -2.76485777e-03  1.01571470e-04  7.77549135e-04\n",
      "  -1.84502409e-03  1.03997502e-03  4.11184494e-03  4.88590038e-04\n",
      "   1.58128128e-03  4.02555664e-04  3.40260153e-04 -1.39450604e-03\n",
      "  -3.95278279e-03 -6.01345382e-03 -7.52534700e-03 -1.03855074e-03\n",
      "  -2.20723123e-03 -7.90556558e-03 -5.76995782e-03 -3.99856563e-03\n",
      "  -6.52285618e-03 -7.33719097e-03 -8.46319212e-03 -5.59676288e-03\n",
      "  -4.92078521e-03 -7.54335844e-03 -4.65835932e-03 -1.58648940e-03\n",
      "  -5.20974431e-03 -4.11705307e-03 -5.29577868e-03 -5.35807419e-03\n",
      "  -7.09284038e-03 -1.81717503e-03 -3.87784606e-03 -5.38973925e-03\n",
      "   1.09705701e-03 -7.16234762e-05 -5.76995782e-03 -3.63435007e-03\n",
      "  -1.86295788e-03 -4.38724842e-03 -5.20158322e-03 -6.32758436e-03\n",
      "  -3.46115512e-03 -2.78517746e-03 -5.40775068e-03 -2.52275157e-03\n",
      "   5.49118352e-04 -3.07413655e-03 -1.98144531e-03 -3.16017093e-03\n",
      "  -3.22246644e-03 -4.95723263e-03 -4.57828447e-05 -2.10645387e-03\n",
      "  -3.61834706e-03  2.86844920e-03  1.69976871e-03 -3.99856563e-03\n",
      "  -1.86295788e-03 -9.15656895e-05 -2.61585623e-03 -3.43019103e-03\n",
      "  -4.55619217e-03 -1.68976293e-03 -1.01378527e-03 -3.63635849e-03\n",
      "  -7.51359378e-04  2.32051054e-03 -1.30274436e-03 -2.10053120e-04\n",
      "  -1.38877874e-03 -1.45107425e-03 -3.18584044e-03 -2.57007339e-03\n",
      "  -4.63074442e-03 -6.14263760e-03  3.44158660e-04 -8.24521829e-04\n",
      "  -6.52285618e-03 -4.38724842e-03 -2.61585623e-03 -5.14014677e-03\n",
      "  -5.95448157e-03 -7.08048271e-03 -4.21405347e-03 -3.53807581e-03\n",
      "  -6.16064903e-03 -3.27564992e-03 -2.03780001e-04 -3.82703491e-03\n",
      "  -2.73434366e-03 -3.91306928e-03 -3.97536479e-03 -5.71013098e-03\n",
      "  -3.38440818e-03 -5.44507921e-03 -6.95697240e-03 -4.70176137e-04\n",
      "  -1.63885663e-03 -7.33719097e-03 -5.20158322e-03 -3.43019103e-03\n",
      "  -5.95448157e-03 -6.76881637e-03 -7.89481751e-03 -5.02838827e-03\n",
      "  -4.35241061e-03 -6.97498383e-03 -4.08998472e-03 -1.01811480e-03\n",
      "  -4.64136970e-03 -3.54867846e-03 -4.72740408e-03 -4.78969959e-03\n",
      "  -6.52446578e-03 -4.51040933e-03 -6.57108035e-03 -8.08297354e-03\n",
      "  -1.59617728e-03 -2.76485777e-03 -8.46319212e-03 -6.32758436e-03\n",
      "  -4.55619217e-03 -7.08048271e-03 -7.89481751e-03 -9.02081865e-03\n",
      "  -6.15438941e-03 -5.47841175e-03 -8.10098497e-03 -5.21598586e-03\n",
      "  -2.14411594e-03 -5.76737085e-03 -4.67467960e-03 -5.85340522e-03\n",
      "  -5.91570073e-03 -7.65046692e-03 -1.64398009e-03 -3.70465112e-03\n",
      "  -5.21654430e-03  1.27025196e-03  1.01571470e-04 -5.59676288e-03\n",
      "  -3.46115512e-03 -1.68976293e-03 -4.21405347e-03 -5.02838827e-03\n",
      "  -6.15438941e-03 -3.28796018e-03 -2.61198251e-03 -5.23455573e-03\n",
      "  -2.34955662e-03  7.22313298e-04 -2.90094161e-03 -1.80825036e-03\n",
      "  -2.98697598e-03 -3.04927149e-03 -4.78403768e-03 -9.68002423e-04\n",
      "  -3.02867345e-03 -4.54056664e-03  1.94622962e-03  7.77549135e-04\n",
      "  -4.92078521e-03 -2.78517746e-03 -1.01378527e-03 -3.53807581e-03\n",
      "  -4.35241061e-03 -5.47841175e-03 -2.61198251e-03 -1.93600485e-03\n",
      "  -4.55857807e-03 -1.67357896e-03  1.39829096e-03 -2.22496394e-03\n",
      "  -1.13227270e-03 -2.31099832e-03 -2.37329383e-03 -4.10806002e-03\n",
      "  -3.59057565e-03 -5.65124667e-03 -7.16313986e-03 -6.76343598e-04\n",
      "  -1.84502409e-03 -7.54335844e-03 -5.40775068e-03 -3.63635849e-03\n",
      "  -6.16064903e-03 -6.97498383e-03 -8.10098497e-03 -5.23455573e-03\n",
      "  -4.55857807e-03 -7.18115129e-03 -4.29615218e-03 -1.22428226e-03\n",
      "  -4.84753717e-03 -3.75484592e-03 -4.93357154e-03 -4.99586705e-03\n",
      "  -6.73063324e-03 -7.05576534e-04 -2.76624756e-03 -4.27814075e-03\n",
      "   2.20865551e-03  1.03997502e-03 -4.65835932e-03 -2.52275157e-03\n",
      "  -7.51359378e-04 -3.27564992e-03 -4.08998472e-03 -5.21598586e-03\n",
      "  -2.34955662e-03 -1.67357896e-03 -4.29615218e-03 -1.41115307e-03\n",
      "   1.66071685e-03 -1.96253805e-03 -8.69846809e-04 -2.04857243e-03\n",
      "  -2.11086794e-03 -3.84563413e-03  2.36629339e-03  3.05622358e-04\n",
      "  -1.20627083e-03  5.28052543e-03  4.11184494e-03 -1.58648940e-03\n",
      "   5.49118352e-04  2.32051054e-03 -2.03780001e-04 -1.01811480e-03\n",
      "  -2.14411594e-03  7.22313298e-04  1.39829096e-03 -1.22428226e-03\n",
      "   1.66071685e-03  4.73258677e-03  1.10933187e-03  2.20202311e-03\n",
      "   1.02329749e-03  9.61001982e-04 -7.73764208e-04 -1.25696152e-03\n",
      "  -3.31763255e-03 -4.82952573e-03  1.65727053e-03  4.88590038e-04\n",
      "  -5.20974431e-03 -3.07413655e-03 -1.30274436e-03 -3.82703491e-03\n",
      "  -4.64136970e-03 -5.76737085e-03 -2.90094161e-03 -2.22496394e-03\n",
      "  -4.84753717e-03 -1.96253805e-03  1.10933187e-03 -2.51392304e-03\n",
      "  -1.42123180e-03 -2.59995741e-03 -2.66225292e-03 -4.39701911e-03\n",
      "  -1.64270275e-04 -2.22494130e-03 -3.73683449e-03  2.74996177e-03\n",
      "   1.58128128e-03 -4.11705307e-03 -1.98144531e-03 -2.10053120e-04\n",
      "  -2.73434366e-03 -3.54867846e-03 -4.67467960e-03 -1.80825036e-03\n",
      "  -1.13227270e-03 -3.75484592e-03 -8.69846809e-04  2.20202311e-03\n",
      "  -1.42123180e-03 -3.28540551e-04 -1.50726617e-03 -1.56956168e-03\n",
      "  -3.30432787e-03 -1.34299589e-03 -3.40366692e-03 -4.91556011e-03\n",
      "   1.57123615e-03  4.02555664e-04 -5.29577868e-03 -3.16017093e-03\n",
      "  -1.38877874e-03 -3.91306928e-03 -4.72740408e-03 -5.85340522e-03\n",
      "  -2.98697598e-03 -2.31099832e-03 -4.93357154e-03 -2.04857243e-03\n",
      "   1.02329749e-03 -2.59995741e-03 -1.50726617e-03 -2.68599179e-03\n",
      "  -2.74828730e-03 -4.48305349e-03 -1.40529140e-03 -3.46596243e-03\n",
      "  -4.97785562e-03  1.50894064e-03  3.40260153e-04 -5.35807419e-03\n",
      "  -3.22246644e-03 -1.45107425e-03 -3.97536479e-03 -4.78969959e-03\n",
      "  -5.91570073e-03 -3.04927149e-03 -2.37329383e-03 -4.99586705e-03\n",
      "  -2.11086794e-03  9.61001982e-04 -2.66225292e-03 -1.56956168e-03\n",
      "  -2.74828730e-03 -2.81058281e-03 -4.54534900e-03 -3.14005759e-03\n",
      "  -5.20072862e-03 -6.71262181e-03 -2.25825547e-04 -1.39450604e-03\n",
      "  -7.09284038e-03 -4.95723263e-03 -3.18584044e-03 -5.71013098e-03\n",
      "  -6.52446578e-03 -7.65046692e-03 -4.78403768e-03 -4.10806002e-03\n",
      "  -6.73063324e-03 -3.84563413e-03 -7.73764208e-04 -4.39701911e-03\n",
      "  -3.30432787e-03 -4.48305349e-03 -4.54534900e-03 -6.28011519e-03]]\n"
     ]
    }
   ],
   "source": [
    "lr = lr.fit(x, ytrue)\n",
    "acc = accuracy_score(ytrue, lr.predict(x))\n",
    "\n",
    "print(acc)\n",
    "print(lr.coef_)"
   ]
  },
  {
   "cell_type": "markdown",
   "id": "80661ac0",
   "metadata": {},
   "source": [
    "#### We get around 77% accuracy in predicting whether a neoantigen would belong to a long survivor"
   ]
  },
  {
   "cell_type": "markdown",
   "id": "bb31d3e9",
   "metadata": {},
   "source": [
    "### My original vision had been to accurately predict whether each neoantigen belonged to a \"long survivor\" or not. Then I would add the number of \"survival neoantigens\" together for each patient and use that to decide if the person was a long survivor.\n",
    "\n",
    "### Ultimately that didn't work out, so I've decided to threshold on the number of neoantigens called for each patient. At least I generated features for the heck of it!"
   ]
  },
  {
   "cell_type": "markdown",
   "id": "2cda2ecd",
   "metadata": {},
   "source": [
    "# Let's just use number of neoantigens"
   ]
  },
  {
   "cell_type": "code",
   "execution_count": 47,
   "id": "a7dd5dde",
   "metadata": {},
   "outputs": [
    {
     "data": {
      "text/html": [
       "<div>\n",
       "<style scoped>\n",
       "    .dataframe tbody tr th:only-of-type {\n",
       "        vertical-align: middle;\n",
       "    }\n",
       "\n",
       "    .dataframe tbody tr th {\n",
       "        vertical-align: top;\n",
       "    }\n",
       "\n",
       "    .dataframe thead th {\n",
       "        text-align: right;\n",
       "    }\n",
       "</style>\n",
       "<table border=\"1\" class=\"dataframe\">\n",
       "  <thead>\n",
       "    <tr style=\"text-align: right;\">\n",
       "      <th></th>\n",
       "      <th>Sample</th>\n",
       "      <th>Months</th>\n",
       "      <th>Status</th>\n",
       "      <th>40mos</th>\n",
       "      <th>numNeoags</th>\n",
       "    </tr>\n",
       "  </thead>\n",
       "  <tbody>\n",
       "    <tr>\n",
       "      <th>0</th>\n",
       "      <td>SA9755</td>\n",
       "      <td>26.500000</td>\n",
       "      <td>0</td>\n",
       "      <td>0</td>\n",
       "      <td>501</td>\n",
       "    </tr>\n",
       "    <tr>\n",
       "      <th>1</th>\n",
       "      <td>HE3202</td>\n",
       "      <td>30.500000</td>\n",
       "      <td>0</td>\n",
       "      <td>0</td>\n",
       "      <td>554</td>\n",
       "    </tr>\n",
       "    <tr>\n",
       "      <th>2</th>\n",
       "      <td>TU0428</td>\n",
       "      <td>3.700000</td>\n",
       "      <td>1</td>\n",
       "      <td>0</td>\n",
       "      <td>811</td>\n",
       "    </tr>\n",
       "    <tr>\n",
       "      <th>3</th>\n",
       "      <td>Y2087</td>\n",
       "      <td>14.900000</td>\n",
       "      <td>1</td>\n",
       "      <td>0</td>\n",
       "      <td>93</td>\n",
       "    </tr>\n",
       "    <tr>\n",
       "      <th>4</th>\n",
       "      <td>M4945</td>\n",
       "      <td>32.100000</td>\n",
       "      <td>0</td>\n",
       "      <td>0</td>\n",
       "      <td>171</td>\n",
       "    </tr>\n",
       "    <tr>\n",
       "      <th>...</th>\n",
       "      <td>...</td>\n",
       "      <td>...</td>\n",
       "      <td>...</td>\n",
       "      <td>...</td>\n",
       "      <td>...</td>\n",
       "    </tr>\n",
       "    <tr>\n",
       "      <th>98</th>\n",
       "      <td>Pat86</td>\n",
       "      <td>9.632866</td>\n",
       "      <td>1</td>\n",
       "      <td>0</td>\n",
       "      <td>38</td>\n",
       "    </tr>\n",
       "    <tr>\n",
       "      <th>99</th>\n",
       "      <td>Pat88</td>\n",
       "      <td>32.515033</td>\n",
       "      <td>0</td>\n",
       "      <td>0</td>\n",
       "      <td>717</td>\n",
       "    </tr>\n",
       "    <tr>\n",
       "      <th>100</th>\n",
       "      <td>Pat90</td>\n",
       "      <td>33.041060</td>\n",
       "      <td>0</td>\n",
       "      <td>0</td>\n",
       "      <td>115</td>\n",
       "    </tr>\n",
       "    <tr>\n",
       "      <th>101</th>\n",
       "      <td>Pat92</td>\n",
       "      <td>4.043831</td>\n",
       "      <td>1</td>\n",
       "      <td>0</td>\n",
       "      <td>13</td>\n",
       "    </tr>\n",
       "    <tr>\n",
       "      <th>102</th>\n",
       "      <td>Pat98</td>\n",
       "      <td>4.602735</td>\n",
       "      <td>1</td>\n",
       "      <td>0</td>\n",
       "      <td>17</td>\n",
       "    </tr>\n",
       "  </tbody>\n",
       "</table>\n",
       "<p>200 rows × 5 columns</p>\n",
       "</div>"
      ],
      "text/plain": [
       "     Sample     Months Status  40mos  numNeoags\n",
       "0    SA9755  26.500000      0      0        501\n",
       "1    HE3202  30.500000      0      0        554\n",
       "2    TU0428   3.700000      1      0        811\n",
       "3     Y2087  14.900000      1      0         93\n",
       "4     M4945  32.100000      0      0        171\n",
       "..      ...        ...    ...    ...        ...\n",
       "98    Pat86   9.632866      1      0         38\n",
       "99    Pat88  32.515033      0      0        717\n",
       "100   Pat90  33.041060      0      0        115\n",
       "101   Pat92   4.043831      1      0         13\n",
       "102   Pat98   4.602735      1      0         17\n",
       "\n",
       "[200 rows x 5 columns]"
      ]
     },
     "execution_count": 47,
     "metadata": {},
     "output_type": "execute_result"
    }
   ],
   "source": [
    "neoag_counts = []\n",
    "\n",
    "for patient in survivals_thresholded['Sample']:\n",
    "    count = sum(neoags.Sample == patient)\n",
    "    neoag_counts.append(count)\n",
    "    \n",
    "survivals_thresholded['numNeoags'] = neoag_counts\n",
    "survivals_thresholded"
   ]
  },
  {
   "cell_type": "code",
   "execution_count": 48,
   "id": "dfc63aff",
   "metadata": {},
   "outputs": [
    {
     "data": {
      "text/plain": [
       "count     200.000000\n",
       "mean      337.720000\n",
       "std       531.027365\n",
       "min         0.000000\n",
       "25%        46.500000\n",
       "50%       148.500000\n",
       "75%       395.000000\n",
       "max      3650.000000\n",
       "Name: numNeoags, dtype: float64"
      ]
     },
     "execution_count": 48,
     "metadata": {},
     "output_type": "execute_result"
    }
   ],
   "source": [
    "survivals_thresholded['numNeoags'].describe()"
   ]
  },
  {
   "cell_type": "markdown",
   "id": "6083a2df",
   "metadata": {},
   "source": [
    "I choose to threshold the number of neoantigens at 100; even though the median is around 150, I found the p-value was better with the threshold set to 100. Setting to 50 also increased the p-value so 100 it was."
   ]
  },
  {
   "cell_type": "code",
   "execution_count": 49,
   "id": "7011dae6",
   "metadata": {},
   "outputs": [
    {
     "data": {
      "text/html": [
       "<div>\n",
       "<style scoped>\n",
       "    .dataframe tbody tr th:only-of-type {\n",
       "        vertical-align: middle;\n",
       "    }\n",
       "\n",
       "    .dataframe tbody tr th {\n",
       "        vertical-align: top;\n",
       "    }\n",
       "\n",
       "    .dataframe thead th {\n",
       "        text-align: right;\n",
       "    }\n",
       "</style>\n",
       "<table border=\"1\" class=\"dataframe\">\n",
       "  <thead>\n",
       "    <tr style=\"text-align: right;\">\n",
       "      <th></th>\n",
       "      <th>Sample</th>\n",
       "      <th>Months</th>\n",
       "      <th>Status</th>\n",
       "      <th>40mos</th>\n",
       "      <th>numNeoags</th>\n",
       "      <th>neoagThrshld</th>\n",
       "    </tr>\n",
       "  </thead>\n",
       "  <tbody>\n",
       "    <tr>\n",
       "      <th>0</th>\n",
       "      <td>SA9755</td>\n",
       "      <td>26.500000</td>\n",
       "      <td>0</td>\n",
       "      <td>0</td>\n",
       "      <td>501</td>\n",
       "      <td>1</td>\n",
       "    </tr>\n",
       "    <tr>\n",
       "      <th>1</th>\n",
       "      <td>HE3202</td>\n",
       "      <td>30.500000</td>\n",
       "      <td>0</td>\n",
       "      <td>0</td>\n",
       "      <td>554</td>\n",
       "      <td>1</td>\n",
       "    </tr>\n",
       "    <tr>\n",
       "      <th>2</th>\n",
       "      <td>TU0428</td>\n",
       "      <td>3.700000</td>\n",
       "      <td>1</td>\n",
       "      <td>0</td>\n",
       "      <td>811</td>\n",
       "      <td>1</td>\n",
       "    </tr>\n",
       "    <tr>\n",
       "      <th>3</th>\n",
       "      <td>Y2087</td>\n",
       "      <td>14.900000</td>\n",
       "      <td>1</td>\n",
       "      <td>0</td>\n",
       "      <td>93</td>\n",
       "      <td>0</td>\n",
       "    </tr>\n",
       "    <tr>\n",
       "      <th>4</th>\n",
       "      <td>M4945</td>\n",
       "      <td>32.100000</td>\n",
       "      <td>0</td>\n",
       "      <td>0</td>\n",
       "      <td>171</td>\n",
       "      <td>1</td>\n",
       "    </tr>\n",
       "    <tr>\n",
       "      <th>...</th>\n",
       "      <td>...</td>\n",
       "      <td>...</td>\n",
       "      <td>...</td>\n",
       "      <td>...</td>\n",
       "      <td>...</td>\n",
       "      <td>...</td>\n",
       "    </tr>\n",
       "    <tr>\n",
       "      <th>98</th>\n",
       "      <td>Pat86</td>\n",
       "      <td>9.632866</td>\n",
       "      <td>1</td>\n",
       "      <td>0</td>\n",
       "      <td>38</td>\n",
       "      <td>0</td>\n",
       "    </tr>\n",
       "    <tr>\n",
       "      <th>99</th>\n",
       "      <td>Pat88</td>\n",
       "      <td>32.515033</td>\n",
       "      <td>0</td>\n",
       "      <td>0</td>\n",
       "      <td>717</td>\n",
       "      <td>1</td>\n",
       "    </tr>\n",
       "    <tr>\n",
       "      <th>100</th>\n",
       "      <td>Pat90</td>\n",
       "      <td>33.041060</td>\n",
       "      <td>0</td>\n",
       "      <td>0</td>\n",
       "      <td>115</td>\n",
       "      <td>1</td>\n",
       "    </tr>\n",
       "    <tr>\n",
       "      <th>101</th>\n",
       "      <td>Pat92</td>\n",
       "      <td>4.043831</td>\n",
       "      <td>1</td>\n",
       "      <td>0</td>\n",
       "      <td>13</td>\n",
       "      <td>0</td>\n",
       "    </tr>\n",
       "    <tr>\n",
       "      <th>102</th>\n",
       "      <td>Pat98</td>\n",
       "      <td>4.602735</td>\n",
       "      <td>1</td>\n",
       "      <td>0</td>\n",
       "      <td>17</td>\n",
       "      <td>0</td>\n",
       "    </tr>\n",
       "  </tbody>\n",
       "</table>\n",
       "<p>200 rows × 6 columns</p>\n",
       "</div>"
      ],
      "text/plain": [
       "     Sample     Months Status  40mos  numNeoags  neoagThrshld\n",
       "0    SA9755  26.500000      0      0        501             1\n",
       "1    HE3202  30.500000      0      0        554             1\n",
       "2    TU0428   3.700000      1      0        811             1\n",
       "3     Y2087  14.900000      1      0         93             0\n",
       "4     M4945  32.100000      0      0        171             1\n",
       "..      ...        ...    ...    ...        ...           ...\n",
       "98    Pat86   9.632866      1      0         38             0\n",
       "99    Pat88  32.515033      0      0        717             1\n",
       "100   Pat90  33.041060      0      0        115             1\n",
       "101   Pat92   4.043831      1      0         13             0\n",
       "102   Pat98   4.602735      1      0         17             0\n",
       "\n",
       "[200 rows x 6 columns]"
      ]
     },
     "execution_count": 49,
     "metadata": {},
     "output_type": "execute_result"
    }
   ],
   "source": [
    "neoag_threshold = []\n",
    "\n",
    "for patient in survivals_thresholded['Sample']:\n",
    "    num = survivals_thresholded[survivals_thresholded['Sample']==patient]['numNeoags'].values[0]\n",
    "    if num > 100:\n",
    "        t = 1\n",
    "    else:\n",
    "        t = 0\n",
    "    neoag_threshold.append(t)\n",
    "    \n",
    "survivals_thresholded['neoagThrshld'] = neoag_threshold\n",
    "survivals_thresholded"
   ]
  },
  {
   "cell_type": "code",
   "execution_count": 50,
   "id": "4c4e0efa",
   "metadata": {},
   "outputs": [
    {
     "data": {
      "image/png": "[encoded data removed]",
      "text/plain": [
       "<Figure size 432x288 with 1 Axes>"
      ]
     },
     "metadata": {
      "needs_background": "light"
     },
     "output_type": "display_data"
    }
   ],
   "source": [
    "T = survivals_thresholded['Months']\n",
    "E = survivals_thresholded['Status']\n",
    "\n",
    "groups = survivals_thresholded['neoagThrshld']\n",
    "ix = (groups == 1)\n",
    "\n",
    "kmf.fit(T[~ix], E[~ix], label='few')\n",
    "ax = kmf.plot_survival_function()\n",
    "\n",
    "kmf.fit(T[ix], E[ix], label='many')\n",
    "ax = kmf.plot_survival_function(ax=ax)"
   ]
  },
  {
   "cell_type": "code",
   "execution_count": 51,
   "id": "b0c715f2",
   "metadata": {},
   "outputs": [
    {
     "name": "stdout",
     "output_type": "stream",
     "text": [
      "logrank p-value = 0.003218\n"
     ]
    }
   ],
   "source": [
    "from lifelines.statistics import logrank_test\n",
    "\n",
    "results = logrank_test(\n",
    "    T[~ix], \n",
    "    T[ix],\n",
    "    event_observed_A=E[~ix], \n",
    "    event_observed_B=E[ix])\n",
    "\n",
    "\n",
    "print(\"logrank p-value = %f\" % results.p_value)  "
   ]
  },
  {
   "cell_type": "markdown",
   "id": "f79cefbd",
   "metadata": {},
   "source": [
    "## Yay, a decently separated survival curve with a significant difference (p=0.003) between groups! Given that this was modeled only on the number of neoantigens, this demonstrates the randomness and fallability of such methods. The number of neoantigens called for a patient is dependent on a plethora of variables from sample preparation to bioinformatics methods used, and may not reflect biological truth.\n",
    "\n",
    "## This was a valuable exercise in learning how many different ways one can arrive at 'significance'!"
   ]
  }
 ],
 "metadata": {
  "kernelspec": {
   "display_name": "Python 3 (ipykernel)",
   "language": "python",
   "name": "python3"
  },
  "language_info": {
   "codemirror_mode": {
    "name": "ipython",
    "version": 3
   },
   "file_extension": ".py",
   "mimetype": "text/x-python",
   "name": "python",
   "nbconvert_exporter": "python",
   "pygments_lexer": "ipython3",
   "version": "3.9.12"
  }
 },
 "nbformat": 4,
 "nbformat_minor": 5
}
